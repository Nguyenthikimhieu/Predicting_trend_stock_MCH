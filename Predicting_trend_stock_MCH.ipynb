{
 "cells": [
  {
   "cell_type": "markdown",
   "metadata": {
    "id": "KOCKXefZsJV2"
   },
   "source": [
    "CTCP Hàng tiêu dùng Masan (MCH)"
   ]
  },
  {
   "cell_type": "code",
   "execution_count": null,
   "metadata": {
    "colab": {
     "base_uri": "https://localhost:8080/"
    },
    "executionInfo": {
     "elapsed": 8151,
     "status": "ok",
     "timestamp": 1703335683190,
     "user": {
      "displayName": "Nguyễn Thị Kim Hiếu",
      "userId": "02232876476613403914"
     },
     "user_tz": -420
    },
    "id": "qUxBmzx9sABT",
    "outputId": "16c2e8cb-ed54-4b9f-a476-28c54bead5e7",
    "scrolled": true
   },
   "outputs": [
    {
     "name": "stdout",
     "output_type": "stream",
     "text": [
      "Collecting vnstock\n",
      "  Downloading vnstock-0.2.8.7-py3-none-any.whl.metadata (7.9 kB)\n",
      "Downloading vnstock-0.2.8.7-py3-none-any.whl (36 kB)\n",
      "Installing collected packages: vnstock\n",
      "Successfully installed vnstock-0.2.8.7\n",
      "\u001b[33mWARNING: Running pip as the 'root' user can result in broken permissions and conflicting behaviour with the system package manager. It is recommended to use a virtual environment instead: https://pip.pypa.io/warnings/venv\u001b[0m\u001b[33m\n",
      "\u001b[0m"
     ]
    }
   ],
   "source": [
    "!pip install vnstock"
   ]
  },
  {
   "cell_type": "code",
   "execution_count": null,
   "metadata": {
    "id": "hoOSympgnoD1"
   },
   "outputs": [],
   "source": [
    "from vnstock import *\n",
    "import numpy as np\n",
    "import pandas as pd\n",
    "import matplotlib.pyplot as plt\n"
   ]
  },
  {
   "cell_type": "code",
   "execution_count": null,
   "metadata": {
    "colab": {
     "base_uri": "https://localhost:8080/"
    },
    "executionInfo": {
     "elapsed": 1533,
     "status": "ok",
     "timestamp": 1703335782685,
     "user": {
      "displayName": "Nguyễn Thị Kim Hiếu",
      "userId": "02232876476613403914"
     },
     "user_tz": -420
    },
    "id": "sul0W5EJqhWr",
    "outputId": "a36db664-9e92-41d4-a9c3-aa2016d2aac2"
   },
   "outputs": [
    {
     "name": "stdout",
     "output_type": "stream",
     "text": [
      "           time   open   high    low  close  volume ticker\n",
      "0    2022-08-22  95590  95590  93420  93420    3800    MCH\n",
      "1    2022-08-23  92190  92480  91530  92480    2000    MCH\n",
      "2    2022-08-24  92000  93800  92000  92950    2200    MCH\n",
      "3    2022-08-25  97480  97480  92000  92000   14300    MCH\n",
      "4    2022-08-26  91530  91530  89640  89740   17500    MCH\n",
      "..          ...    ...    ...    ...    ...     ...    ...\n",
      "331  2023-12-14  86000  86000  85000  85700    8600    MCH\n",
      "332  2023-12-15  83000  87100  83000  85700   27200    MCH\n",
      "333  2023-12-18  77000  87000  76900  85500   38100    MCH\n",
      "334  2023-12-19  84500  86900  84500  86900   15300    MCH\n",
      "335  2023-12-20  86500  87500  86400  86400   20600    MCH\n",
      "\n",
      "[336 rows x 7 columns]\n"
     ]
    }
   ],
   "source": [
    "df1 =  stock_historical_data(symbol='MCH',\n",
    "                            start_date=\"2022-08-22\",\n",
    "                            end_date='2023-12-20', resolution='1D', type='stock', beautify=True, decor=False, source='DNSE')\n",
    "print(df1)"
   ]
  },
  {
   "cell_type": "markdown",
   "metadata": {
    "id": "2NqHE_IssvoI"
   },
   "source": [
    "#THÔNG TIN DOANH NGHIỆP"
   ]
  },
  {
   "cell_type": "code",
   "execution_count": null,
   "metadata": {
    "colab": {
     "base_uri": "https://localhost:8080/",
     "height": 115
    },
    "executionInfo": {
     "elapsed": 1563,
     "status": "ok",
     "timestamp": 1703083442026,
     "user": {
      "displayName": "Hoài Thanh",
      "userId": "18180815610646845984"
     },
     "user_tz": -420
    },
    "id": "FyHc7v1SrqwN",
    "outputId": "6db38172-6fd0-42a7-bbe4-38b4837feeec"
   },
   "outputs": [
    {
     "data": {
      "text/html": [
       "\n",
       "  <div id=\"df-54259b7c-bef9-4f60-a4b3-860e2033b623\" class=\"colab-df-container\">\n",
       "    <div>\n",
       "<style scoped>\n",
       "    .dataframe tbody tr th:only-of-type {\n",
       "        vertical-align: middle;\n",
       "    }\n",
       "\n",
       "    .dataframe tbody tr th {\n",
       "        vertical-align: top;\n",
       "    }\n",
       "\n",
       "    .dataframe thead th {\n",
       "        text-align: right;\n",
       "    }\n",
       "</style>\n",
       "<table border=\"1\" class=\"dataframe\">\n",
       "  <thead>\n",
       "    <tr style=\"text-align: right;\">\n",
       "      <th></th>\n",
       "      <th>id</th>\n",
       "      <th>companyName</th>\n",
       "      <th>ticker</th>\n",
       "      <th>companyProfile</th>\n",
       "      <th>historyDev</th>\n",
       "      <th>companyPromise</th>\n",
       "      <th>businessRisk</th>\n",
       "      <th>keyDevelopments</th>\n",
       "      <th>businessStrategies</th>\n",
       "    </tr>\n",
       "  </thead>\n",
       "  <tbody>\n",
       "    <tr>\n",
       "      <th>0</th>\n",
       "      <td>None</td>\n",
       "      <td>Công ty Cổ phần Hàng Tiêu Dùng MaSan</td>\n",
       "      <td>MCH</td>\n",
       "      <td>Công ty Cổ phần Hàng Tiêu Dùng MaSan (MCH) có...</td>\n",
       "      <td>Năm 2000: Tiền thân là Công ty Cổ phần Công ...</td>\n",
       "      <td>Việt Nam được xếp hạng vào nhóm các nước có ...</td>\n",
       "      <td>Chi tiêu trên đầu người đối với thực phẩm và...</td>\n",
       "      <td>Sản xuất và kinh doanh các loại thực phẩm và...</td>\n",
       "      <td>Trở thành Công ty hàng tiêu dùng dẫn đầu Việ...</td>\n",
       "    </tr>\n",
       "  </tbody>\n",
       "</table>\n",
       "</div>\n",
       "    <div class=\"colab-df-buttons\">\n",
       "\n",
       "  <div class=\"colab-df-container\">\n",
       "    <button class=\"colab-df-convert\" onclick=\"convertToInteractive('df-54259b7c-bef9-4f60-a4b3-860e2033b623')\"\n",
       "            title=\"Convert this dataframe to an interactive table.\"\n",
       "            style=\"display:none;\">\n",
       "\n",
       "  <svg xmlns=\"http://www.w3.org/2000/svg\" height=\"24px\" viewBox=\"0 -960 960 960\">\n",
       "    <path d=\"M120-120v-720h720v720H120Zm60-500h600v-160H180v160Zm220 220h160v-160H400v160Zm0 220h160v-160H400v160ZM180-400h160v-160H180v160Zm440 0h160v-160H620v160ZM180-180h160v-160H180v160Zm440 0h160v-160H620v160Z\"/>\n",
       "  </svg>\n",
       "    </button>\n",
       "\n",
       "  <style>\n",
       "    .colab-df-container {\n",
       "      display:flex;\n",
       "      gap: 12px;\n",
       "    }\n",
       "\n",
       "    .colab-df-convert {\n",
       "      background-color: #E8F0FE;\n",
       "      border: none;\n",
       "      border-radius: 50%;\n",
       "      cursor: pointer;\n",
       "      display: none;\n",
       "      fill: #1967D2;\n",
       "      height: 32px;\n",
       "      padding: 0 0 0 0;\n",
       "      width: 32px;\n",
       "    }\n",
       "\n",
       "    .colab-df-convert:hover {\n",
       "      background-color: #E2EBFA;\n",
       "      box-shadow: 0px 1px 2px rgba(60, 64, 67, 0.3), 0px 1px 3px 1px rgba(60, 64, 67, 0.15);\n",
       "      fill: #174EA6;\n",
       "    }\n",
       "\n",
       "    .colab-df-buttons div {\n",
       "      margin-bottom: 4px;\n",
       "    }\n",
       "\n",
       "    [theme=dark] .colab-df-convert {\n",
       "      background-color: #3B4455;\n",
       "      fill: #D2E3FC;\n",
       "    }\n",
       "\n",
       "    [theme=dark] .colab-df-convert:hover {\n",
       "      background-color: #434B5C;\n",
       "      box-shadow: 0px 1px 3px 1px rgba(0, 0, 0, 0.15);\n",
       "      filter: drop-shadow(0px 1px 2px rgba(0, 0, 0, 0.3));\n",
       "      fill: #FFFFFF;\n",
       "    }\n",
       "  </style>\n",
       "\n",
       "    <script>\n",
       "      const buttonEl =\n",
       "        document.querySelector('#df-54259b7c-bef9-4f60-a4b3-860e2033b623 button.colab-df-convert');\n",
       "      buttonEl.style.display =\n",
       "        google.colab.kernel.accessAllowed ? 'block' : 'none';\n",
       "\n",
       "      async function convertToInteractive(key) {\n",
       "        const element = document.querySelector('#df-54259b7c-bef9-4f60-a4b3-860e2033b623');\n",
       "        const dataTable =\n",
       "          await google.colab.kernel.invokeFunction('convertToInteractive',\n",
       "                                                    [key], {});\n",
       "        if (!dataTable) return;\n",
       "\n",
       "        const docLinkHtml = 'Like what you see? Visit the ' +\n",
       "          '<a target=\"_blank\" href=https://colab.research.google.com/notebooks/data_table.ipynb>data table notebook</a>'\n",
       "          + ' to learn more about interactive tables.';\n",
       "        element.innerHTML = '';\n",
       "        dataTable['output_type'] = 'display_data';\n",
       "        await google.colab.output.renderOutput(dataTable, element);\n",
       "        const docLink = document.createElement('div');\n",
       "        docLink.innerHTML = docLinkHtml;\n",
       "        element.appendChild(docLink);\n",
       "      }\n",
       "    </script>\n",
       "  </div>\n",
       "\n",
       "\n",
       "    </div>\n",
       "  </div>\n"
      ],
      "text/plain": [
       "     id                           companyName ticker  \\\n",
       "0  None  Công ty Cổ phần Hàng Tiêu Dùng MaSan    MCH   \n",
       "\n",
       "                                      companyProfile  \\\n",
       "0   Công ty Cổ phần Hàng Tiêu Dùng MaSan (MCH) có...   \n",
       "\n",
       "                                          historyDev  \\\n",
       "0    Năm 2000: Tiền thân là Công ty Cổ phần Công ...   \n",
       "\n",
       "                                      companyPromise  \\\n",
       "0    Việt Nam được xếp hạng vào nhóm các nước có ...   \n",
       "\n",
       "                                        businessRisk  \\\n",
       "0    Chi tiêu trên đầu người đối với thực phẩm và...   \n",
       "\n",
       "                                     keyDevelopments  \\\n",
       "0    Sản xuất và kinh doanh các loại thực phẩm và...   \n",
       "\n",
       "                                  businessStrategies  \n",
       "0    Trở thành Công ty hàng tiêu dùng dẫn đầu Việ...  "
      ]
     },
     "execution_count": 14,
     "metadata": {},
     "output_type": "execute_result"
    }
   ],
   "source": [
    "company_profile ('MCH')"
   ]
  },
  {
   "cell_type": "markdown",
   "metadata": {
    "id": "HqBcS4Oys16H"
   },
   "source": [
    "#CÁC CHỈ SỐ TÀI CHÍNH CƠ BẢN"
   ]
  },
  {
   "cell_type": "code",
   "execution_count": null,
   "metadata": {
    "colab": {
     "base_uri": "https://localhost:8080/",
     "height": 130
    },
    "executionInfo": {
     "elapsed": 1408,
     "status": "ok",
     "timestamp": 1703083827097,
     "user": {
      "displayName": "Hoài Thanh",
      "userId": "18180815610646845984"
     },
     "user_tz": -420
    },
    "id": "Zz-AZUUMtJRu",
    "outputId": "dffbb383-2708-4a8d-987e-97d7e79d61c3"
   },
   "outputs": [
    {
     "data": {
      "text/html": [
       "\n",
       "  <div id=\"df-22a94f53-2b4d-46d4-a9db-23f6447df956\" class=\"colab-df-container\">\n",
       "    <div>\n",
       "<style scoped>\n",
       "    .dataframe tbody tr th:only-of-type {\n",
       "        vertical-align: middle;\n",
       "    }\n",
       "\n",
       "    .dataframe tbody tr th {\n",
       "        vertical-align: top;\n",
       "    }\n",
       "\n",
       "    .dataframe thead th {\n",
       "        text-align: right;\n",
       "    }\n",
       "</style>\n",
       "<table border=\"1\" class=\"dataframe\">\n",
       "  <thead>\n",
       "    <tr style=\"text-align: right;\">\n",
       "      <th></th>\n",
       "      <th>ticker</th>\n",
       "      <th>priceToEarning.top200AvgValue</th>\n",
       "      <th>priceToEarning.industryAvgValue</th>\n",
       "      <th>valueBeforeEbitda.top200AvgValue</th>\n",
       "      <th>valueBeforeEbitda.industryAvgValue</th>\n",
       "      <th>priceToBook.top200AvgValue</th>\n",
       "      <th>priceToBook.industryAvgValue</th>\n",
       "      <th>dividend.top200AvgValue</th>\n",
       "      <th>dividend.industryAvgValue</th>\n",
       "      <th>roe.top200AvgValue</th>\n",
       "      <th>...</th>\n",
       "      <th>revenueOnAsset.top200AvgValue</th>\n",
       "      <th>revenueOnAsset.industryAvgValue</th>\n",
       "      <th>ebitOnRevenue.top200AvgValue</th>\n",
       "      <th>ebitOnRevenue.industryAvgValue</th>\n",
       "      <th>netDebtOnEbitda.top200AvgValue</th>\n",
       "      <th>netDebtOnEbitda.industryAvgValue</th>\n",
       "      <th>netDebtOnEquity.top200AvgValue</th>\n",
       "      <th>netDebtOnEquity.industryAvgValue</th>\n",
       "      <th>priceToSales.top200AvgValue</th>\n",
       "      <th>priceToSales.industryAvgValue</th>\n",
       "    </tr>\n",
       "  </thead>\n",
       "  <tbody>\n",
       "    <tr>\n",
       "      <th>0</th>\n",
       "      <td>MCH</td>\n",
       "      <td>14.1</td>\n",
       "      <td>21.1</td>\n",
       "      <td>12.6</td>\n",
       "      <td>13.8</td>\n",
       "      <td>1.7</td>\n",
       "      <td>2.2</td>\n",
       "      <td>0</td>\n",
       "      <td>0</td>\n",
       "      <td>0.095</td>\n",
       "      <td>...</td>\n",
       "      <td>0.4</td>\n",
       "      <td>0.9</td>\n",
       "      <td>0.147</td>\n",
       "      <td>0.06</td>\n",
       "      <td>2.2</td>\n",
       "      <td>0.8</td>\n",
       "      <td>0.6</td>\n",
       "      <td>0.2</td>\n",
       "      <td>2</td>\n",
       "      <td>0.6</td>\n",
       "    </tr>\n",
       "  </tbody>\n",
       "</table>\n",
       "<p>1 rows × 59 columns</p>\n",
       "</div>\n",
       "    <div class=\"colab-df-buttons\">\n",
       "\n",
       "  <div class=\"colab-df-container\">\n",
       "    <button class=\"colab-df-convert\" onclick=\"convertToInteractive('df-22a94f53-2b4d-46d4-a9db-23f6447df956')\"\n",
       "            title=\"Convert this dataframe to an interactive table.\"\n",
       "            style=\"display:none;\">\n",
       "\n",
       "  <svg xmlns=\"http://www.w3.org/2000/svg\" height=\"24px\" viewBox=\"0 -960 960 960\">\n",
       "    <path d=\"M120-120v-720h720v720H120Zm60-500h600v-160H180v160Zm220 220h160v-160H400v160Zm0 220h160v-160H400v160ZM180-400h160v-160H180v160Zm440 0h160v-160H620v160ZM180-180h160v-160H180v160Zm440 0h160v-160H620v160Z\"/>\n",
       "  </svg>\n",
       "    </button>\n",
       "\n",
       "  <style>\n",
       "    .colab-df-container {\n",
       "      display:flex;\n",
       "      gap: 12px;\n",
       "    }\n",
       "\n",
       "    .colab-df-convert {\n",
       "      background-color: #E8F0FE;\n",
       "      border: none;\n",
       "      border-radius: 50%;\n",
       "      cursor: pointer;\n",
       "      display: none;\n",
       "      fill: #1967D2;\n",
       "      height: 32px;\n",
       "      padding: 0 0 0 0;\n",
       "      width: 32px;\n",
       "    }\n",
       "\n",
       "    .colab-df-convert:hover {\n",
       "      background-color: #E2EBFA;\n",
       "      box-shadow: 0px 1px 2px rgba(60, 64, 67, 0.3), 0px 1px 3px 1px rgba(60, 64, 67, 0.15);\n",
       "      fill: #174EA6;\n",
       "    }\n",
       "\n",
       "    .colab-df-buttons div {\n",
       "      margin-bottom: 4px;\n",
       "    }\n",
       "\n",
       "    [theme=dark] .colab-df-convert {\n",
       "      background-color: #3B4455;\n",
       "      fill: #D2E3FC;\n",
       "    }\n",
       "\n",
       "    [theme=dark] .colab-df-convert:hover {\n",
       "      background-color: #434B5C;\n",
       "      box-shadow: 0px 1px 3px 1px rgba(0, 0, 0, 0.15);\n",
       "      filter: drop-shadow(0px 1px 2px rgba(0, 0, 0, 0.3));\n",
       "      fill: #FFFFFF;\n",
       "    }\n",
       "  </style>\n",
       "\n",
       "    <script>\n",
       "      const buttonEl =\n",
       "        document.querySelector('#df-22a94f53-2b4d-46d4-a9db-23f6447df956 button.colab-df-convert');\n",
       "      buttonEl.style.display =\n",
       "        google.colab.kernel.accessAllowed ? 'block' : 'none';\n",
       "\n",
       "      async function convertToInteractive(key) {\n",
       "        const element = document.querySelector('#df-22a94f53-2b4d-46d4-a9db-23f6447df956');\n",
       "        const dataTable =\n",
       "          await google.colab.kernel.invokeFunction('convertToInteractive',\n",
       "                                                    [key], {});\n",
       "        if (!dataTable) return;\n",
       "\n",
       "        const docLinkHtml = 'Like what you see? Visit the ' +\n",
       "          '<a target=\"_blank\" href=https://colab.research.google.com/notebooks/data_table.ipynb>data table notebook</a>'\n",
       "          + ' to learn more about interactive tables.';\n",
       "        element.innerHTML = '';\n",
       "        dataTable['output_type'] = 'display_data';\n",
       "        await google.colab.output.renderOutput(dataTable, element);\n",
       "        const docLink = document.createElement('div');\n",
       "        docLink.innerHTML = docLinkHtml;\n",
       "        element.appendChild(docLink);\n",
       "      }\n",
       "    </script>\n",
       "  </div>\n",
       "\n",
       "\n",
       "    </div>\n",
       "  </div>\n"
      ],
      "text/plain": [
       "  ticker priceToEarning.top200AvgValue priceToEarning.industryAvgValue  \\\n",
       "0    MCH                          14.1                            21.1   \n",
       "\n",
       "  valueBeforeEbitda.top200AvgValue valueBeforeEbitda.industryAvgValue  \\\n",
       "0                             12.6                               13.8   \n",
       "\n",
       "  priceToBook.top200AvgValue priceToBook.industryAvgValue  \\\n",
       "0                        1.7                          2.2   \n",
       "\n",
       "  dividend.top200AvgValue dividend.industryAvgValue roe.top200AvgValue  ...  \\\n",
       "0                       0                         0              0.095  ...   \n",
       "\n",
       "  revenueOnAsset.top200AvgValue revenueOnAsset.industryAvgValue  \\\n",
       "0                           0.4                             0.9   \n",
       "\n",
       "  ebitOnRevenue.top200AvgValue ebitOnRevenue.industryAvgValue  \\\n",
       "0                        0.147                           0.06   \n",
       "\n",
       "  netDebtOnEbitda.top200AvgValue netDebtOnEbitda.industryAvgValue  \\\n",
       "0                            2.2                              0.8   \n",
       "\n",
       "  netDebtOnEquity.top200AvgValue netDebtOnEquity.industryAvgValue  \\\n",
       "0                            0.6                              0.2   \n",
       "\n",
       "  priceToSales.top200AvgValue priceToSales.industryAvgValue  \n",
       "0                           2                           0.6  \n",
       "\n",
       "[1 rows x 59 columns]"
      ]
     },
     "execution_count": 28,
     "metadata": {},
     "output_type": "execute_result"
    }
   ],
   "source": [
    "company_fundamental_ratio (symbol='MCH', mode='simplify', missing_pct=0.8)"
   ]
  },
  {
   "cell_type": "markdown",
   "metadata": {
    "id": "Swqz3JtCtXtJ"
   },
   "source": [
    "#MỨC BIẾN ĐỘNG GIÁ CỔ PHIẾU"
   ]
  },
  {
   "cell_type": "code",
   "execution_count": null,
   "metadata": {
    "colab": {
     "base_uri": "https://localhost:8080/",
     "height": 81
    },
    "executionInfo": {
     "elapsed": 1274,
     "status": "ok",
     "timestamp": 1703083941744,
     "user": {
      "displayName": "Hoài Thanh",
      "userId": "18180815610646845984"
     },
     "user_tz": -420
    },
    "id": "SEgVZNY3tnhO",
    "outputId": "9c5ce6c2-2d42-47ff-e140-6ca02571e9fb"
   },
   "outputs": [
    {
     "data": {
      "text/html": [
       "\n",
       "  <div id=\"df-db5bcb9f-0762-44d0-b604-28c76594e35c\" class=\"colab-df-container\">\n",
       "    <div>\n",
       "<style scoped>\n",
       "    .dataframe tbody tr th:only-of-type {\n",
       "        vertical-align: middle;\n",
       "    }\n",
       "\n",
       "    .dataframe tbody tr th {\n",
       "        vertical-align: top;\n",
       "    }\n",
       "\n",
       "    .dataframe thead th {\n",
       "        text-align: right;\n",
       "    }\n",
       "</style>\n",
       "<table border=\"1\" class=\"dataframe\">\n",
       "  <thead>\n",
       "    <tr style=\"text-align: right;\">\n",
       "      <th></th>\n",
       "      <th>ticker</th>\n",
       "      <th>ticker_highestPrice</th>\n",
       "      <th>ticker_lowestPrice</th>\n",
       "      <th>ticker_highestPricePercent</th>\n",
       "      <th>ticker_lowestPricePercent</th>\n",
       "    </tr>\n",
       "  </thead>\n",
       "  <tbody>\n",
       "    <tr>\n",
       "      <th>0</th>\n",
       "      <td>MCH</td>\n",
       "      <td>87082.0</td>\n",
       "      <td>57760.6</td>\n",
       "      <td>-0.005</td>\n",
       "      <td>0.501</td>\n",
       "    </tr>\n",
       "  </tbody>\n",
       "</table>\n",
       "</div>\n",
       "    <div class=\"colab-df-buttons\">\n",
       "\n",
       "  <div class=\"colab-df-container\">\n",
       "    <button class=\"colab-df-convert\" onclick=\"convertToInteractive('df-db5bcb9f-0762-44d0-b604-28c76594e35c')\"\n",
       "            title=\"Convert this dataframe to an interactive table.\"\n",
       "            style=\"display:none;\">\n",
       "\n",
       "  <svg xmlns=\"http://www.w3.org/2000/svg\" height=\"24px\" viewBox=\"0 -960 960 960\">\n",
       "    <path d=\"M120-120v-720h720v720H120Zm60-500h600v-160H180v160Zm220 220h160v-160H400v160Zm0 220h160v-160H400v160ZM180-400h160v-160H180v160Zm440 0h160v-160H620v160ZM180-180h160v-160H180v160Zm440 0h160v-160H620v160Z\"/>\n",
       "  </svg>\n",
       "    </button>\n",
       "\n",
       "  <style>\n",
       "    .colab-df-container {\n",
       "      display:flex;\n",
       "      gap: 12px;\n",
       "    }\n",
       "\n",
       "    .colab-df-convert {\n",
       "      background-color: #E8F0FE;\n",
       "      border: none;\n",
       "      border-radius: 50%;\n",
       "      cursor: pointer;\n",
       "      display: none;\n",
       "      fill: #1967D2;\n",
       "      height: 32px;\n",
       "      padding: 0 0 0 0;\n",
       "      width: 32px;\n",
       "    }\n",
       "\n",
       "    .colab-df-convert:hover {\n",
       "      background-color: #E2EBFA;\n",
       "      box-shadow: 0px 1px 2px rgba(60, 64, 67, 0.3), 0px 1px 3px 1px rgba(60, 64, 67, 0.15);\n",
       "      fill: #174EA6;\n",
       "    }\n",
       "\n",
       "    .colab-df-buttons div {\n",
       "      margin-bottom: 4px;\n",
       "    }\n",
       "\n",
       "    [theme=dark] .colab-df-convert {\n",
       "      background-color: #3B4455;\n",
       "      fill: #D2E3FC;\n",
       "    }\n",
       "\n",
       "    [theme=dark] .colab-df-convert:hover {\n",
       "      background-color: #434B5C;\n",
       "      box-shadow: 0px 1px 3px 1px rgba(0, 0, 0, 0.15);\n",
       "      filter: drop-shadow(0px 1px 2px rgba(0, 0, 0, 0.3));\n",
       "      fill: #FFFFFF;\n",
       "    }\n",
       "  </style>\n",
       "\n",
       "    <script>\n",
       "      const buttonEl =\n",
       "        document.querySelector('#df-db5bcb9f-0762-44d0-b604-28c76594e35c button.colab-df-convert');\n",
       "      buttonEl.style.display =\n",
       "        google.colab.kernel.accessAllowed ? 'block' : 'none';\n",
       "\n",
       "      async function convertToInteractive(key) {\n",
       "        const element = document.querySelector('#df-db5bcb9f-0762-44d0-b604-28c76594e35c');\n",
       "        const dataTable =\n",
       "          await google.colab.kernel.invokeFunction('convertToInteractive',\n",
       "                                                    [key], {});\n",
       "        if (!dataTable) return;\n",
       "\n",
       "        const docLinkHtml = 'Like what you see? Visit the ' +\n",
       "          '<a target=\"_blank\" href=https://colab.research.google.com/notebooks/data_table.ipynb>data table notebook</a>'\n",
       "          + ' to learn more about interactive tables.';\n",
       "        element.innerHTML = '';\n",
       "        dataTable['output_type'] = 'display_data';\n",
       "        await google.colab.output.renderOutput(dataTable, element);\n",
       "        const docLink = document.createElement('div');\n",
       "        docLink.innerHTML = docLinkHtml;\n",
       "        element.appendChild(docLink);\n",
       "      }\n",
       "    </script>\n",
       "  </div>\n",
       "\n",
       "\n",
       "    </div>\n",
       "  </div>\n"
      ],
      "text/plain": [
       "  ticker  ticker_highestPrice  ticker_lowestPrice  ticker_highestPricePercent  \\\n",
       "0    MCH              87082.0             57760.6                      -0.005   \n",
       "\n",
       "   ticker_lowestPricePercent  \n",
       "0                      0.501  "
      ]
     },
     "execution_count": 33,
     "metadata": {},
     "output_type": "execute_result"
    }
   ],
   "source": [
    "ticker_price_volatility (symbol='MCH')"
   ]
  },
  {
   "cell_type": "markdown",
   "metadata": {
    "id": "ClOAKve0zwV6"
   },
   "source": [
    "##Thống kê mô tả dữ liệu giá"
   ]
  },
  {
   "cell_type": "code",
   "execution_count": null,
   "metadata": {
    "colab": {
     "base_uri": "https://localhost:8080/"
    },
    "executionInfo": {
     "elapsed": 334,
     "status": "ok",
     "timestamp": 1703335788957,
     "user": {
      "displayName": "Nguyễn Thị Kim Hiếu",
      "userId": "02232876476613403914"
     },
     "user_tz": -420
    },
    "id": "027GMwF7UKZ2",
    "outputId": "19fad351-40f5-40e6-d0ef-f7254519fb38"
   },
   "outputs": [
    {
     "name": "stdout",
     "output_type": "stream",
     "text": [
      "<class 'pandas.core.frame.DataFrame'>\n",
      "RangeIndex: 336 entries, 0 to 335\n",
      "Data columns (total 7 columns):\n",
      " #   Column  Non-Null Count  Dtype \n",
      "---  ------  --------------  ----- \n",
      " 0   time    336 non-null    object\n",
      " 1   open    336 non-null    int64 \n",
      " 2   high    336 non-null    int64 \n",
      " 3   low     336 non-null    int64 \n",
      " 4   close   336 non-null    int64 \n",
      " 5   volume  336 non-null    int64 \n",
      " 6   ticker  336 non-null    object\n",
      "dtypes: int64(5), object(2)\n",
      "memory usage: 18.5+ KB\n"
     ]
    }
   ],
   "source": [
    "df1.info()"
   ]
  },
  {
   "cell_type": "code",
   "execution_count": null,
   "metadata": {
    "id": "Xh9njoBxvt0X"
   },
   "outputs": [],
   "source": [
    "df1['time'] = pd.to_datetime(df1['time'])"
   ]
  },
  {
   "cell_type": "code",
   "execution_count": null,
   "metadata": {
    "colab": {
     "base_uri": "https://localhost:8080/"
    },
    "executionInfo": {
     "elapsed": 14,
     "status": "ok",
     "timestamp": 1703336219328,
     "user": {
      "displayName": "Nguyễn Thị Kim Hiếu",
      "userId": "02232876476613403914"
     },
     "user_tz": -420
    },
    "id": "CEm_7xgDwAZW",
    "outputId": "2c0f861c-bdfb-4cdd-bee2-208667a76b66"
   },
   "outputs": [
    {
     "name": "stdout",
     "output_type": "stream",
     "text": [
      "<class 'pandas.core.frame.DataFrame'>\n",
      "Int64Index: 334 entries, 0 to 335\n",
      "Data columns (total 7 columns):\n",
      " #   Column  Non-Null Count  Dtype         \n",
      "---  ------  --------------  -----         \n",
      " 0   time    334 non-null    datetime64[ns]\n",
      " 1   open    334 non-null    int64         \n",
      " 2   high    334 non-null    int64         \n",
      " 3   low     334 non-null    int64         \n",
      " 4   close   334 non-null    int64         \n",
      " 5   volume  334 non-null    int64         \n",
      " 6   ticker  334 non-null    object        \n",
      "dtypes: datetime64[ns](1), int64(5), object(1)\n",
      "memory usage: 20.9+ KB\n"
     ]
    }
   ],
   "source": [
    "df1.info()"
   ]
  },
  {
   "cell_type": "code",
   "execution_count": null,
   "metadata": {
    "colab": {
     "base_uri": "https://localhost:8080/",
     "height": 300
    },
    "executionInfo": {
     "elapsed": 26,
     "status": "ok",
     "timestamp": 1703335792104,
     "user": {
      "displayName": "Nguyễn Thị Kim Hiếu",
      "userId": "02232876476613403914"
     },
     "user_tz": -420
    },
    "id": "PRrTSdRGWjGO",
    "outputId": "c030b001-f7c1-4383-8afc-bc558392fa21"
   },
   "outputs": [
    {
     "data": {
      "text/html": [
       "\n",
       "  <div id=\"df-a7074100-0edb-461f-8e44-f3c80fcf2ee9\" class=\"colab-df-container\">\n",
       "    <div>\n",
       "<style scoped>\n",
       "    .dataframe tbody tr th:only-of-type {\n",
       "        vertical-align: middle;\n",
       "    }\n",
       "\n",
       "    .dataframe tbody tr th {\n",
       "        vertical-align: top;\n",
       "    }\n",
       "\n",
       "    .dataframe thead th {\n",
       "        text-align: right;\n",
       "    }\n",
       "</style>\n",
       "<table border=\"1\" class=\"dataframe\">\n",
       "  <thead>\n",
       "    <tr style=\"text-align: right;\">\n",
       "      <th></th>\n",
       "      <th>open</th>\n",
       "      <th>high</th>\n",
       "      <th>low</th>\n",
       "      <th>close</th>\n",
       "      <th>volume</th>\n",
       "    </tr>\n",
       "  </thead>\n",
       "  <tbody>\n",
       "    <tr>\n",
       "      <th>count</th>\n",
       "      <td>336.000000</td>\n",
       "      <td>336.000000</td>\n",
       "      <td>336.00000</td>\n",
       "      <td>336.000000</td>\n",
       "      <td>336.000000</td>\n",
       "    </tr>\n",
       "    <tr>\n",
       "      <th>mean</th>\n",
       "      <td>73338.833333</td>\n",
       "      <td>74065.979167</td>\n",
       "      <td>72580.85119</td>\n",
       "      <td>73414.607143</td>\n",
       "      <td>24756.547619</td>\n",
       "    </tr>\n",
       "    <tr>\n",
       "      <th>std</th>\n",
       "      <td>8493.249046</td>\n",
       "      <td>8546.363243</td>\n",
       "      <td>8392.01409</td>\n",
       "      <td>8486.014797</td>\n",
       "      <td>26054.787602</td>\n",
       "    </tr>\n",
       "    <tr>\n",
       "      <th>min</th>\n",
       "      <td>57750.000000</td>\n",
       "      <td>59920.000000</td>\n",
       "      <td>57560.00000</td>\n",
       "      <td>57560.000000</td>\n",
       "      <td>100.000000</td>\n",
       "    </tr>\n",
       "    <tr>\n",
       "      <th>25%</th>\n",
       "      <td>67660.000000</td>\n",
       "      <td>68295.000000</td>\n",
       "      <td>66457.50000</td>\n",
       "      <td>67560.000000</td>\n",
       "      <td>7100.000000</td>\n",
       "    </tr>\n",
       "    <tr>\n",
       "      <th>50%</th>\n",
       "      <td>70675.000000</td>\n",
       "      <td>71720.000000</td>\n",
       "      <td>70110.00000</td>\n",
       "      <td>71195.000000</td>\n",
       "      <td>16300.000000</td>\n",
       "    </tr>\n",
       "    <tr>\n",
       "      <th>75%</th>\n",
       "      <td>78925.000000</td>\n",
       "      <td>79625.000000</td>\n",
       "      <td>78000.00000</td>\n",
       "      <td>78950.000000</td>\n",
       "      <td>34750.000000</td>\n",
       "    </tr>\n",
       "    <tr>\n",
       "      <th>max</th>\n",
       "      <td>97480.000000</td>\n",
       "      <td>97480.000000</td>\n",
       "      <td>93420.00000</td>\n",
       "      <td>94360.000000</td>\n",
       "      <td>168200.000000</td>\n",
       "    </tr>\n",
       "  </tbody>\n",
       "</table>\n",
       "</div>\n",
       "    <div class=\"colab-df-buttons\">\n",
       "\n",
       "  <div class=\"colab-df-container\">\n",
       "    <button class=\"colab-df-convert\" onclick=\"convertToInteractive('df-a7074100-0edb-461f-8e44-f3c80fcf2ee9')\"\n",
       "            title=\"Convert this dataframe to an interactive table.\"\n",
       "            style=\"display:none;\">\n",
       "\n",
       "  <svg xmlns=\"http://www.w3.org/2000/svg\" height=\"24px\" viewBox=\"0 -960 960 960\">\n",
       "    <path d=\"M120-120v-720h720v720H120Zm60-500h600v-160H180v160Zm220 220h160v-160H400v160Zm0 220h160v-160H400v160ZM180-400h160v-160H180v160Zm440 0h160v-160H620v160ZM180-180h160v-160H180v160Zm440 0h160v-160H620v160Z\"/>\n",
       "  </svg>\n",
       "    </button>\n",
       "\n",
       "  <style>\n",
       "    .colab-df-container {\n",
       "      display:flex;\n",
       "      gap: 12px;\n",
       "    }\n",
       "\n",
       "    .colab-df-convert {\n",
       "      background-color: #E8F0FE;\n",
       "      border: none;\n",
       "      border-radius: 50%;\n",
       "      cursor: pointer;\n",
       "      display: none;\n",
       "      fill: #1967D2;\n",
       "      height: 32px;\n",
       "      padding: 0 0 0 0;\n",
       "      width: 32px;\n",
       "    }\n",
       "\n",
       "    .colab-df-convert:hover {\n",
       "      background-color: #E2EBFA;\n",
       "      box-shadow: 0px 1px 2px rgba(60, 64, 67, 0.3), 0px 1px 3px 1px rgba(60, 64, 67, 0.15);\n",
       "      fill: #174EA6;\n",
       "    }\n",
       "\n",
       "    .colab-df-buttons div {\n",
       "      margin-bottom: 4px;\n",
       "    }\n",
       "\n",
       "    [theme=dark] .colab-df-convert {\n",
       "      background-color: #3B4455;\n",
       "      fill: #D2E3FC;\n",
       "    }\n",
       "\n",
       "    [theme=dark] .colab-df-convert:hover {\n",
       "      background-color: #434B5C;\n",
       "      box-shadow: 0px 1px 3px 1px rgba(0, 0, 0, 0.15);\n",
       "      filter: drop-shadow(0px 1px 2px rgba(0, 0, 0, 0.3));\n",
       "      fill: #FFFFFF;\n",
       "    }\n",
       "  </style>\n",
       "\n",
       "    <script>\n",
       "      const buttonEl =\n",
       "        document.querySelector('#df-a7074100-0edb-461f-8e44-f3c80fcf2ee9 button.colab-df-convert');\n",
       "      buttonEl.style.display =\n",
       "        google.colab.kernel.accessAllowed ? 'block' : 'none';\n",
       "\n",
       "      async function convertToInteractive(key) {\n",
       "        const element = document.querySelector('#df-a7074100-0edb-461f-8e44-f3c80fcf2ee9');\n",
       "        const dataTable =\n",
       "          await google.colab.kernel.invokeFunction('convertToInteractive',\n",
       "                                                    [key], {});\n",
       "        if (!dataTable) return;\n",
       "\n",
       "        const docLinkHtml = 'Like what you see? Visit the ' +\n",
       "          '<a target=\"_blank\" href=https://colab.research.google.com/notebooks/data_table.ipynb>data table notebook</a>'\n",
       "          + ' to learn more about interactive tables.';\n",
       "        element.innerHTML = '';\n",
       "        dataTable['output_type'] = 'display_data';\n",
       "        await google.colab.output.renderOutput(dataTable, element);\n",
       "        const docLink = document.createElement('div');\n",
       "        docLink.innerHTML = docLinkHtml;\n",
       "        element.appendChild(docLink);\n",
       "      }\n",
       "    </script>\n",
       "  </div>\n",
       "\n",
       "\n",
       "<div id=\"df-69e888fb-bc18-4a90-be07-4bc845183560\">\n",
       "  <button class=\"colab-df-quickchart\" onclick=\"quickchart('df-69e888fb-bc18-4a90-be07-4bc845183560')\"\n",
       "            title=\"Suggest charts\"\n",
       "            style=\"display:none;\">\n",
       "\n",
       "<svg xmlns=\"http://www.w3.org/2000/svg\" height=\"24px\"viewBox=\"0 0 24 24\"\n",
       "     width=\"24px\">\n",
       "    <g>\n",
       "        <path d=\"M19 3H5c-1.1 0-2 .9-2 2v14c0 1.1.9 2 2 2h14c1.1 0 2-.9 2-2V5c0-1.1-.9-2-2-2zM9 17H7v-7h2v7zm4 0h-2V7h2v10zm4 0h-2v-4h2v4z\"/>\n",
       "    </g>\n",
       "</svg>\n",
       "  </button>\n",
       "\n",
       "<style>\n",
       "  .colab-df-quickchart {\n",
       "      --bg-color: #E8F0FE;\n",
       "      --fill-color: #1967D2;\n",
       "      --hover-bg-color: #E2EBFA;\n",
       "      --hover-fill-color: #174EA6;\n",
       "      --disabled-fill-color: #AAA;\n",
       "      --disabled-bg-color: #DDD;\n",
       "  }\n",
       "\n",
       "  [theme=dark] .colab-df-quickchart {\n",
       "      --bg-color: #3B4455;\n",
       "      --fill-color: #D2E3FC;\n",
       "      --hover-bg-color: #434B5C;\n",
       "      --hover-fill-color: #FFFFFF;\n",
       "      --disabled-bg-color: #3B4455;\n",
       "      --disabled-fill-color: #666;\n",
       "  }\n",
       "\n",
       "  .colab-df-quickchart {\n",
       "    background-color: var(--bg-color);\n",
       "    border: none;\n",
       "    border-radius: 50%;\n",
       "    cursor: pointer;\n",
       "    display: none;\n",
       "    fill: var(--fill-color);\n",
       "    height: 32px;\n",
       "    padding: 0;\n",
       "    width: 32px;\n",
       "  }\n",
       "\n",
       "  .colab-df-quickchart:hover {\n",
       "    background-color: var(--hover-bg-color);\n",
       "    box-shadow: 0 1px 2px rgba(60, 64, 67, 0.3), 0 1px 3px 1px rgba(60, 64, 67, 0.15);\n",
       "    fill: var(--button-hover-fill-color);\n",
       "  }\n",
       "\n",
       "  .colab-df-quickchart-complete:disabled,\n",
       "  .colab-df-quickchart-complete:disabled:hover {\n",
       "    background-color: var(--disabled-bg-color);\n",
       "    fill: var(--disabled-fill-color);\n",
       "    box-shadow: none;\n",
       "  }\n",
       "\n",
       "  .colab-df-spinner {\n",
       "    border: 2px solid var(--fill-color);\n",
       "    border-color: transparent;\n",
       "    border-bottom-color: var(--fill-color);\n",
       "    animation:\n",
       "      spin 1s steps(1) infinite;\n",
       "  }\n",
       "\n",
       "  @keyframes spin {\n",
       "    0% {\n",
       "      border-color: transparent;\n",
       "      border-bottom-color: var(--fill-color);\n",
       "      border-left-color: var(--fill-color);\n",
       "    }\n",
       "    20% {\n",
       "      border-color: transparent;\n",
       "      border-left-color: var(--fill-color);\n",
       "      border-top-color: var(--fill-color);\n",
       "    }\n",
       "    30% {\n",
       "      border-color: transparent;\n",
       "      border-left-color: var(--fill-color);\n",
       "      border-top-color: var(--fill-color);\n",
       "      border-right-color: var(--fill-color);\n",
       "    }\n",
       "    40% {\n",
       "      border-color: transparent;\n",
       "      border-right-color: var(--fill-color);\n",
       "      border-top-color: var(--fill-color);\n",
       "    }\n",
       "    60% {\n",
       "      border-color: transparent;\n",
       "      border-right-color: var(--fill-color);\n",
       "    }\n",
       "    80% {\n",
       "      border-color: transparent;\n",
       "      border-right-color: var(--fill-color);\n",
       "      border-bottom-color: var(--fill-color);\n",
       "    }\n",
       "    90% {\n",
       "      border-color: transparent;\n",
       "      border-bottom-color: var(--fill-color);\n",
       "    }\n",
       "  }\n",
       "</style>\n",
       "\n",
       "  <script>\n",
       "    async function quickchart(key) {\n",
       "      const quickchartButtonEl =\n",
       "        document.querySelector('#' + key + ' button');\n",
       "      quickchartButtonEl.disabled = true;  // To prevent multiple clicks.\n",
       "      quickchartButtonEl.classList.add('colab-df-spinner');\n",
       "      try {\n",
       "        const charts = await google.colab.kernel.invokeFunction(\n",
       "            'suggestCharts', [key], {});\n",
       "      } catch (error) {\n",
       "        console.error('Error during call to suggestCharts:', error);\n",
       "      }\n",
       "      quickchartButtonEl.classList.remove('colab-df-spinner');\n",
       "      quickchartButtonEl.classList.add('colab-df-quickchart-complete');\n",
       "    }\n",
       "    (() => {\n",
       "      let quickchartButtonEl =\n",
       "        document.querySelector('#df-69e888fb-bc18-4a90-be07-4bc845183560 button');\n",
       "      quickchartButtonEl.style.display =\n",
       "        google.colab.kernel.accessAllowed ? 'block' : 'none';\n",
       "    })();\n",
       "  </script>\n",
       "</div>\n",
       "\n",
       "    </div>\n",
       "  </div>\n"
      ],
      "text/plain": [
       "               open          high          low         close         volume\n",
       "count    336.000000    336.000000    336.00000    336.000000     336.000000\n",
       "mean   73338.833333  74065.979167  72580.85119  73414.607143   24756.547619\n",
       "std     8493.249046   8546.363243   8392.01409   8486.014797   26054.787602\n",
       "min    57750.000000  59920.000000  57560.00000  57560.000000     100.000000\n",
       "25%    67660.000000  68295.000000  66457.50000  67560.000000    7100.000000\n",
       "50%    70675.000000  71720.000000  70110.00000  71195.000000   16300.000000\n",
       "75%    78925.000000  79625.000000  78000.00000  78950.000000   34750.000000\n",
       "max    97480.000000  97480.000000  93420.00000  94360.000000  168200.000000"
      ]
     },
     "execution_count": 20,
     "metadata": {},
     "output_type": "execute_result"
    }
   ],
   "source": [
    "df1.describe()"
   ]
  },
  {
   "cell_type": "code",
   "execution_count": null,
   "metadata": {
    "colab": {
     "base_uri": "https://localhost:8080/",
     "height": 567
    },
    "executionInfo": {
     "elapsed": 1313,
     "status": "ok",
     "timestamp": 1703344724635,
     "user": {
      "displayName": "Nguyễn Thị Kim Hiếu",
      "userId": "02232876476613403914"
     },
     "user_tz": -420
    },
    "id": "nB70qTNAtsb5",
    "outputId": "5103a037-18b5-4a84-97b6-ddb5577f49d5"
   },
   "outputs": [
    {
     "data": {
      "image/png": "[encoded data removed]",
      "text/plain": [
       "<Figure size 1000x600 with 1 Axes>"
      ]
     },
     "metadata": {},
     "output_type": "display_data"
    }
   ],
   "source": [
    "import matplotlib.pyplot as plt\n",
    "\n",
    "# Đảm bảo cột 'Date' trong dataframe là kiểu datetime\n",
    "df1['time'] = pd.to_datetime(df1['time'])\n",
    "\n",
    "# Vẽ đồ thị\n",
    "plt.figure(figsize=(10, 6))\n",
    "plt.plot(df1['time'], df1['close'], label='Giá đóng cửa MCH', color='blue')\n",
    "plt.title('Biểu đồ Giá đóng cửa FPT theo ngày')\n",
    "plt.xlabel('Ngày')\n",
    "plt.ylabel('Giá đóng cửa')\n",
    "plt.legend()\n",
    "plt.show()\n"
   ]
  },
  {
   "cell_type": "code",
   "execution_count": null,
   "metadata": {
    "colab": {
     "base_uri": "https://localhost:8080/",
     "height": 963
    },
    "executionInfo": {
     "elapsed": 1430,
     "status": "ok",
     "timestamp": 1703085626261,
     "user": {
      "displayName": "Hoài Thanh",
      "userId": "18180815610646845984"
     },
     "user_tz": -420
    },
    "id": "FFs1Dio0xxUy",
    "outputId": "93f8224e-4201-48a6-f1b9-d0f48030cd82"
   },
   "outputs": [
    {
     "data": {
      "text/plain": [
       "<Figure size 1200x400 with 0 Axes>"
      ]
     },
     "metadata": {},
     "output_type": "display_data"
    },
    {
     "data": {
      "image/png": "[encoded data removed]",
      "text/plain": [
       "<Figure size 640x480 with 1 Axes>"
      ]
     },
     "metadata": {},
     "output_type": "display_data"
    },
    {
     "data": {
      "text/plain": [
       "<Figure size 1200x400 with 0 Axes>"
      ]
     },
     "metadata": {},
     "output_type": "display_data"
    },
    {
     "data": {
      "image/png": "[encoded data removed]",
      "text/plain": [
       "<Figure size 640x480 with 1 Axes>"
      ]
     },
     "metadata": {},
     "output_type": "display_data"
    }
   ],
   "source": [
    "from statsmodels.graphics.tsaplots import plot_acf, plot_pacf\n",
    "\n",
    "# Đảm bảo cột 'Time' trong dataframe là kiểu datetime\n",
    "df1['time'] = pd.to_datetime(df1['time'])\n",
    "\n",
    "# Vẽ biểu đồ ACF\n",
    "plt.figure(figsize=(12, 4))\n",
    "plot_acf(df1['close'], lags=50, title='Autocorrelation Function (ACF)')\n",
    "plt.xlabel('Lags')\n",
    "plt.ylabel('Autocorrelation')\n",
    "plt.show()\n",
    "\n",
    "# Vẽ biểu đồ PACF\n",
    "plt.figure(figsize=(12, 4))\n",
    "plot_pacf(df1['close'], lags=50, title='Partial Autocorrelation Function (PACF)')\n",
    "plt.xlabel('Lags')\n",
    "plt.ylabel('Partial Autocorrelation')\n",
    "plt.show()\n"
   ]
  },
  {
   "cell_type": "markdown",
   "metadata": {
    "id": "pBKPGINh0QJe"
   },
   "source": [
    "##Mô hình dự báo thô điều chỉnh xu thế"
   ]
  },
  {
   "cell_type": "code",
   "execution_count": null,
   "metadata": {
    "colab": {
     "base_uri": "https://localhost:8080/"
    },
    "executionInfo": {
     "elapsed": 466,
     "status": "ok",
     "timestamp": 1703087074247,
     "user": {
      "displayName": "Hoài Thanh",
      "userId": "18180815610646845984"
     },
     "user_tz": -420
    },
    "id": "73CF9m3B0CzV",
    "outputId": "f305f63b-cbd9-41f6-b40b-a29a96b53ecb"
   },
   "outputs": [
    {
     "name": "stdout",
     "output_type": "stream",
     "text": [
      "          time   open   high    low  close   volume ticker  Forecast\n",
      "0   2022-08-22  72730  73320  72150  72900  1634000    FPT       NaN\n",
      "1   2022-08-23  72310  73070  72310  73070  1085700    FPT   73240.0\n",
      "2   2022-08-24  73490  73750  73150  73230  1008000    FPT   73390.0\n",
      "3   2022-08-25  73230  73660  73070  73320  1143900    FPT   73410.0\n",
      "4   2022-08-26  73410  74600  73320  74080  1936600    FPT   74840.0\n",
      "..         ...    ...    ...    ...    ...      ...    ...       ...\n",
      "331 2023-12-14  95800  96400  95200  96200  1712300    FPT   97200.0\n",
      "332 2023-12-15  96200  96300  95000  96200  1474300    FPT   96200.0\n",
      "333 2023-12-18  95900  96200  93700  94000  2266500    FPT   91800.0\n",
      "334 2023-12-19  93900  94600  93600  94600  1250400    FPT   95200.0\n",
      "335 2023-12-20  94300  95000  94100  94700  1349500    FPT   94800.0\n",
      "\n",
      "[336 rows x 8 columns]\n"
     ]
    }
   ],
   "source": [
    "df1['Forecast'] = df1['close'] + (df1['close'] - df1['close'].shift(1))\n",
    "\n",
    "# In ra DataFrame với cột dự báo mới\n",
    "print(df1)"
   ]
  },
  {
   "cell_type": "code",
   "execution_count": null,
   "metadata": {
    "colab": {
     "base_uri": "https://localhost:8080/",
     "height": 565
    },
    "executionInfo": {
     "elapsed": 1479,
     "status": "ok",
     "timestamp": 1703087313678,
     "user": {
      "displayName": "Hoài Thanh",
      "userId": "18180815610646845984"
     },
     "user_tz": -420
    },
    "id": "phmX55pc3GtH",
    "outputId": "de449010-dbde-4202-8eab-af8bb60b9f12"
   },
   "outputs": [
    {
     "data": {
      "image/png": "[encoded data removed]",
      "text/plain": [
       "<Figure size 1000x600 with 1 Axes>"
      ]
     },
     "metadata": {},
     "output_type": "display_data"
    }
   ],
   "source": [
    "plt.figure(figsize=(10, 6))\n",
    "plt.plot(df1['time'], df1['close'], label='Close', marker='o')\n",
    "plt.plot(df1['time'], df1['Forecast'], label='Forecast', marker='o')\n",
    "plt.title('So sánh Giá thực tế và Giá Dự Báo FPT')\n",
    "plt.xlabel('Ngày')\n",
    "plt.ylabel('Giá cổ phiếu')\n",
    "plt.legend()\n",
    "plt.show()"
   ]
  },
  {
   "cell_type": "code",
   "execution_count": null,
   "metadata": {
    "colab": {
     "base_uri": "https://localhost:8080/"
    },
    "executionInfo": {
     "elapsed": 1516,
     "status": "ok",
     "timestamp": 1703087428111,
     "user": {
      "displayName": "Hoài Thanh",
      "userId": "18180815610646845984"
     },
     "user_tz": -420
    },
    "id": "A66Xh6P94cAr",
    "outputId": "42d57af6-667f-46d9-a9e7-f940f1bfb60b"
   },
   "outputs": [
    {
     "name": "stdout",
     "output_type": "stream",
     "text": [
      "RMSE: 1116.6346347228741\n"
     ]
    }
   ],
   "source": [
    "from sklearn.metrics import mean_squared_error\n",
    "df1 = df1.dropna()\n",
    "\n",
    "# Tính RMSE (Root Mean Squared Error)\n",
    "rmse = np.sqrt(mean_squared_error(df1['close'], df1['Forecast']))\n",
    "\n",
    "print(f'RMSE: {rmse}')\n"
   ]
  },
  {
   "cell_type": "markdown",
   "metadata": {
    "id": "5CILR6sxZxf9"
   },
   "source": [
    "##### **Mô hình san mũ Holt**"
   ]
  },
  {
   "cell_type": "code",
   "execution_count": null,
   "metadata": {
    "colab": {
     "base_uri": "https://localhost:8080/"
    },
    "executionInfo": {
     "elapsed": 8242,
     "status": "ok",
     "timestamp": 1703340916932,
     "user": {
      "displayName": "Nguyễn Thị Kim Hiếu",
      "userId": "02232876476613403914"
     },
     "user_tz": -420
    },
    "id": "QFA6yuj0TuCq",
    "outputId": "8aa4d31f-4c49-4720-a5af-7e94a24ded50"
   },
   "outputs": [
    {
     "name": "stdout",
     "output_type": "stream",
     "text": [
      "Requirement already satisfied: statsforecast in /usr/local/lib/python3.10/dist-packages (1.7.0)\n",
      "Requirement already satisfied: cloudpickle in /usr/local/lib/python3.10/dist-packages (from statsforecast) (2.2.1)\n",
      "Requirement already satisfied: numba>=0.55.0 in /usr/local/lib/python3.10/dist-packages (from statsforecast) (0.58.1)\n",
      "Requirement already satisfied: numpy>=1.21.6 in /usr/local/lib/python3.10/dist-packages (from statsforecast) (1.23.5)\n",
      "Requirement already satisfied: pandas>=1.3.5 in /usr/local/lib/python3.10/dist-packages (from statsforecast) (1.5.3)\n",
      "Requirement already satisfied: scipy>=1.7.3 in /usr/local/lib/python3.10/dist-packages (from statsforecast) (1.11.4)\n",
      "Requirement already satisfied: statsmodels>=0.13.2 in /usr/local/lib/python3.10/dist-packages (from statsforecast) (0.14.1)\n",
      "Requirement already satisfied: tqdm in /usr/local/lib/python3.10/dist-packages (from statsforecast) (4.66.1)\n",
      "Requirement already satisfied: fugue>=0.8.1 in /usr/local/lib/python3.10/dist-packages (from statsforecast) (0.8.7)\n",
      "Requirement already satisfied: utilsforecast>=0.0.23 in /usr/local/lib/python3.10/dist-packages (from statsforecast) (0.0.23)\n",
      "Requirement already satisfied: triad>=0.9.3 in /usr/local/lib/python3.10/dist-packages (from fugue>=0.8.1->statsforecast) (0.9.3)\n",
      "Requirement already satisfied: adagio>=0.2.4 in /usr/local/lib/python3.10/dist-packages (from fugue>=0.8.1->statsforecast) (0.2.4)\n",
      "Requirement already satisfied: qpd>=0.4.4 in /usr/local/lib/python3.10/dist-packages (from fugue>=0.8.1->statsforecast) (0.4.4)\n",
      "Requirement already satisfied: fugue-sql-antlr>=0.1.6 in /usr/local/lib/python3.10/dist-packages (from fugue>=0.8.1->statsforecast) (0.2.0)\n",
      "Requirement already satisfied: sqlglot in /usr/local/lib/python3.10/dist-packages (from fugue>=0.8.1->statsforecast) (17.16.2)\n",
      "Requirement already satisfied: jinja2 in /usr/local/lib/python3.10/dist-packages (from fugue>=0.8.1->statsforecast) (3.1.2)\n",
      "Requirement already satisfied: llvmlite<0.42,>=0.41.0dev0 in /usr/local/lib/python3.10/dist-packages (from numba>=0.55.0->statsforecast) (0.41.1)\n",
      "Requirement already satisfied: python-dateutil>=2.8.1 in /usr/local/lib/python3.10/dist-packages (from pandas>=1.3.5->statsforecast) (2.8.2)\n",
      "Requirement already satisfied: pytz>=2020.1 in /usr/local/lib/python3.10/dist-packages (from pandas>=1.3.5->statsforecast) (2023.3.post1)\n",
      "Requirement already satisfied: patsy>=0.5.4 in /usr/local/lib/python3.10/dist-packages (from statsmodels>=0.13.2->statsforecast) (0.5.4)\n",
      "Requirement already satisfied: packaging>=21.3 in /usr/local/lib/python3.10/dist-packages (from statsmodels>=0.13.2->statsforecast) (23.2)\n",
      "Requirement already satisfied: antlr4-python3-runtime<4.12 in /usr/local/lib/python3.10/dist-packages (from fugue-sql-antlr>=0.1.6->fugue>=0.8.1->statsforecast) (4.11.1)\n",
      "Requirement already satisfied: six in /usr/local/lib/python3.10/dist-packages (from patsy>=0.5.4->statsmodels>=0.13.2->statsforecast) (1.16.0)\n",
      "Requirement already satisfied: pyarrow>=6.0.1 in /usr/local/lib/python3.10/dist-packages (from triad>=0.9.3->fugue>=0.8.1->statsforecast) (10.0.1)\n",
      "Requirement already satisfied: fsspec>=2022.5.0 in /usr/local/lib/python3.10/dist-packages (from triad>=0.9.3->fugue>=0.8.1->statsforecast) (2023.6.0)\n",
      "Requirement already satisfied: fs in /usr/local/lib/python3.10/dist-packages (from triad>=0.9.3->fugue>=0.8.1->statsforecast) (2.4.16)\n",
      "Requirement already satisfied: MarkupSafe>=2.0 in /usr/local/lib/python3.10/dist-packages (from jinja2->fugue>=0.8.1->statsforecast) (2.1.3)\n",
      "Requirement already satisfied: appdirs~=1.4.3 in /usr/local/lib/python3.10/dist-packages (from fs->triad>=0.9.3->fugue>=0.8.1->statsforecast) (1.4.4)\n",
      "Requirement already satisfied: setuptools in /usr/local/lib/python3.10/dist-packages (from fs->triad>=0.9.3->fugue>=0.8.1->statsforecast) (67.7.2)\n",
      "\u001b[33mWARNING: Running pip as the 'root' user can result in broken permissions and conflicting behaviour with the system package manager. It is recommended to use a virtual environment instead: https://pip.pypa.io/warnings/venv\u001b[0m\u001b[33m\n",
      "\u001b[0m"
     ]
    }
   ],
   "source": [
    "!pip install statsforecast"
   ]
  },
  {
   "cell_type": "code",
   "execution_count": null,
   "metadata": {
    "id": "KaftkwEPCFoD"
   },
   "outputs": [],
   "source": [
    "from statsforecast import StatsForecast\n",
    "from statsforecast.models import HoltWinters"
   ]
  },
  {
   "cell_type": "code",
   "execution_count": null,
   "metadata": {
    "id": "d5GL1axOtnFT"
   },
   "outputs": [],
   "source": [
    "# Chia dữ liệu thành tập huấn luyện và tập kiểm tra\n",
    "train = df1.loc[df1['time'] <= '2023-10-15']\n",
    "test = df1.loc[(df1['time'] >= '2023-10-16') & (df1['time'] <= '2023-12-20')]\n",
    "h = valid['time'].nunique()"
   ]
  },
  {
   "cell_type": "code",
   "execution_count": null,
   "metadata": {
    "colab": {
     "base_uri": "https://localhost:8080/"
    },
    "executionInfo": {
     "elapsed": 423,
     "status": "ok",
     "timestamp": 1703344185526,
     "user": {
      "displayName": "Nguyễn Thị Kim Hiếu",
      "userId": "02232876476613403914"
     },
     "user_tz": -420
    },
    "id": "0NSWRzHiCAmT",
    "outputId": "4aea94fe-b99f-4242-a69c-a7574c98ce22"
   },
   "outputs": [
    {
     "name": "stderr",
     "output_type": "stream",
     "text": [
      "/usr/local/lib/python3.10/dist-packages/statsmodels/tsa/base/tsa_model.py:473: ValueWarning: An unsupported index was provided and will be ignored when e.g. forecasting.\n",
      "  self._init_dates(dates, freq)\n",
      "/usr/local/lib/python3.10/dist-packages/statsmodels/tsa/holtwinters/model.py:917: ConvergenceWarning: Optimization failed to converge. Check mle_retvals.\n",
      "  warnings.warn(\n"
     ]
    }
   ],
   "source": [
    "#Tạo và huấn luyện mô hình Holt-Winters\n",
    "model = ExponentialSmoothing(train['close'], trend='add', seasonal='add', seasonal_periods=12)\n",
    "holt_winters_model = model.fit()"
   ]
  },
  {
   "cell_type": "code",
   "execution_count": null,
   "metadata": {
    "colab": {
     "base_uri": "https://localhost:8080/"
    },
    "executionInfo": {
     "elapsed": 575,
     "status": "ok",
     "timestamp": 1703344199924,
     "user": {
      "displayName": "Nguyễn Thị Kim Hiếu",
      "userId": "02232876476613403914"
     },
     "user_tz": -420
    },
    "id": "ze_Pj8kM-Ycc",
    "outputId": "8278322e-5e1f-4025-82ec-55f36e3ef865"
   },
   "outputs": [
    {
     "name": "stdout",
     "output_type": "stream",
     "text": [
      "288    76831.526690\n",
      "289    76825.763928\n",
      "290    77402.098845\n",
      "291    78473.061180\n",
      "292    78959.769159\n",
      "293    79420.798583\n",
      "294    79383.737983\n",
      "295    78413.317325\n",
      "296    78348.717391\n",
      "297    78065.230297\n",
      "298    76931.315716\n",
      "299    76875.248419\n",
      "300    76726.164853\n",
      "301    76720.402092\n",
      "302    77296.737008\n",
      "303    78367.699344\n",
      "304    78854.407322\n",
      "305    79315.436746\n",
      "306    79278.376146\n",
      "307    78307.955488\n",
      "308    78243.355554\n",
      "309    77959.868461\n",
      "310    76825.953879\n",
      "311    76769.886582\n",
      "312    76620.803016\n",
      "313    76615.040255\n",
      "314    77191.375171\n",
      "315    78262.337507\n",
      "316    78749.045486\n",
      "317    79210.074910\n",
      "318    79173.014310\n",
      "319    78202.593652\n",
      "320    78137.993718\n",
      "321    77854.506624\n",
      "322    76720.592043\n",
      "323    76664.524745\n",
      "324    76515.441180\n",
      "325    76509.678418\n",
      "326    77086.013335\n",
      "327    78156.975671\n",
      "328    78643.683649\n",
      "329    79104.713073\n",
      "330    79067.652473\n",
      "331    78097.231815\n",
      "332    78032.631881\n",
      "333    77749.144787\n",
      "334    76615.230206\n",
      "335    76559.162909\n",
      "dtype: float64\n"
     ]
    },
    {
     "name": "stderr",
     "output_type": "stream",
     "text": [
      "/usr/local/lib/python3.10/dist-packages/statsmodels/tsa/base/tsa_model.py:836: ValueWarning: No supported index is available. Prediction results will be given with an integer index beginning at `start`.\n",
      "  return get_prediction_index(\n",
      "/usr/local/lib/python3.10/dist-packages/statsmodels/tsa/base/tsa_model.py:836: FutureWarning: No supported index is available. In the next version, calling this method in a model without a supported index will result in an exception.\n",
      "  return get_prediction_index(\n"
     ]
    }
   ],
   "source": [
    "# Dự đoán cho tập kiểm tra\n",
    "filtered_forecast = holt_winters_model.forecast(steps=len(test))\n",
    "print(filtered_forecast)"
   ]
  },
  {
   "cell_type": "code",
   "execution_count": null,
   "metadata": {
    "id": "yszWd5e3AbtN"
   },
   "outputs": [],
   "source": [
    "# Thêm cột 'Forecast' vào DataFrame\n",
    "df1 = df1.assign(Forecast=filtered_forecast)"
   ]
  },
  {
   "cell_type": "code",
   "execution_count": null,
   "metadata": {
    "colab": {
     "base_uri": "https://localhost:8080/",
     "height": 1000
    },
    "executionInfo": {
     "elapsed": 507,
     "status": "ok",
     "timestamp": 1703344231636,
     "user": {
      "displayName": "Nguyễn Thị Kim Hiếu",
      "userId": "02232876476613403914"
     },
     "user_tz": -420
    },
    "id": "FjIaFHkPG8sd",
    "outputId": "40268c3f-982b-4953-b4e0-3f6a693884a6"
   },
   "outputs": [
    {
     "data": {
      "text/html": [
       "\n",
       "  <div id=\"df-2b52e131-218f-405e-bca2-ca32be5a6815\" class=\"colab-df-container\">\n",
       "    <div>\n",
       "<style scoped>\n",
       "    .dataframe tbody tr th:only-of-type {\n",
       "        vertical-align: middle;\n",
       "    }\n",
       "\n",
       "    .dataframe tbody tr th {\n",
       "        vertical-align: top;\n",
       "    }\n",
       "\n",
       "    .dataframe thead th {\n",
       "        text-align: right;\n",
       "    }\n",
       "</style>\n",
       "<table border=\"1\" class=\"dataframe\">\n",
       "  <thead>\n",
       "    <tr style=\"text-align: right;\">\n",
       "      <th></th>\n",
       "      <th>time</th>\n",
       "      <th>open</th>\n",
       "      <th>high</th>\n",
       "      <th>low</th>\n",
       "      <th>close</th>\n",
       "      <th>volume</th>\n",
       "      <th>ticker</th>\n",
       "      <th>Forecast</th>\n",
       "    </tr>\n",
       "  </thead>\n",
       "  <tbody>\n",
       "    <tr>\n",
       "      <th>288</th>\n",
       "      <td>2023-10-16</td>\n",
       "      <td>77000</td>\n",
       "      <td>77000</td>\n",
       "      <td>76400</td>\n",
       "      <td>76800</td>\n",
       "      <td>9500</td>\n",
       "      <td>MCH</td>\n",
       "      <td>76831.526690</td>\n",
       "    </tr>\n",
       "    <tr>\n",
       "      <th>289</th>\n",
       "      <td>2023-10-17</td>\n",
       "      <td>76500</td>\n",
       "      <td>77100</td>\n",
       "      <td>76500</td>\n",
       "      <td>77000</td>\n",
       "      <td>13700</td>\n",
       "      <td>MCH</td>\n",
       "      <td>76825.763928</td>\n",
       "    </tr>\n",
       "    <tr>\n",
       "      <th>290</th>\n",
       "      <td>2023-10-18</td>\n",
       "      <td>77300</td>\n",
       "      <td>78200</td>\n",
       "      <td>76500</td>\n",
       "      <td>77700</td>\n",
       "      <td>38800</td>\n",
       "      <td>MCH</td>\n",
       "      <td>77402.098845</td>\n",
       "    </tr>\n",
       "    <tr>\n",
       "      <th>291</th>\n",
       "      <td>2023-10-19</td>\n",
       "      <td>77400</td>\n",
       "      <td>77400</td>\n",
       "      <td>77000</td>\n",
       "      <td>77000</td>\n",
       "      <td>16700</td>\n",
       "      <td>MCH</td>\n",
       "      <td>78473.061180</td>\n",
       "    </tr>\n",
       "    <tr>\n",
       "      <th>292</th>\n",
       "      <td>2023-10-20</td>\n",
       "      <td>77000</td>\n",
       "      <td>78000</td>\n",
       "      <td>77000</td>\n",
       "      <td>77000</td>\n",
       "      <td>18100</td>\n",
       "      <td>MCH</td>\n",
       "      <td>78959.769159</td>\n",
       "    </tr>\n",
       "    <tr>\n",
       "      <th>293</th>\n",
       "      <td>2023-10-23</td>\n",
       "      <td>77600</td>\n",
       "      <td>77600</td>\n",
       "      <td>77000</td>\n",
       "      <td>77000</td>\n",
       "      <td>37400</td>\n",
       "      <td>MCH</td>\n",
       "      <td>79420.798583</td>\n",
       "    </tr>\n",
       "    <tr>\n",
       "      <th>294</th>\n",
       "      <td>2023-10-24</td>\n",
       "      <td>76000</td>\n",
       "      <td>77300</td>\n",
       "      <td>76000</td>\n",
       "      <td>77000</td>\n",
       "      <td>40800</td>\n",
       "      <td>MCH</td>\n",
       "      <td>79383.737983</td>\n",
       "    </tr>\n",
       "    <tr>\n",
       "      <th>295</th>\n",
       "      <td>2023-10-25</td>\n",
       "      <td>77000</td>\n",
       "      <td>77200</td>\n",
       "      <td>77000</td>\n",
       "      <td>77000</td>\n",
       "      <td>37700</td>\n",
       "      <td>MCH</td>\n",
       "      <td>78413.317325</td>\n",
       "    </tr>\n",
       "    <tr>\n",
       "      <th>296</th>\n",
       "      <td>2023-10-26</td>\n",
       "      <td>77000</td>\n",
       "      <td>77100</td>\n",
       "      <td>74500</td>\n",
       "      <td>75500</td>\n",
       "      <td>30600</td>\n",
       "      <td>MCH</td>\n",
       "      <td>78348.717391</td>\n",
       "    </tr>\n",
       "    <tr>\n",
       "      <th>297</th>\n",
       "      <td>2023-10-27</td>\n",
       "      <td>75500</td>\n",
       "      <td>75800</td>\n",
       "      <td>74800</td>\n",
       "      <td>75000</td>\n",
       "      <td>87900</td>\n",
       "      <td>MCH</td>\n",
       "      <td>78065.230297</td>\n",
       "    </tr>\n",
       "    <tr>\n",
       "      <th>298</th>\n",
       "      <td>2023-10-30</td>\n",
       "      <td>75200</td>\n",
       "      <td>76500</td>\n",
       "      <td>74600</td>\n",
       "      <td>76000</td>\n",
       "      <td>38500</td>\n",
       "      <td>MCH</td>\n",
       "      <td>76931.315716</td>\n",
       "    </tr>\n",
       "    <tr>\n",
       "      <th>299</th>\n",
       "      <td>2023-10-31</td>\n",
       "      <td>78000</td>\n",
       "      <td>78000</td>\n",
       "      <td>75000</td>\n",
       "      <td>75300</td>\n",
       "      <td>64500</td>\n",
       "      <td>MCH</td>\n",
       "      <td>76875.248419</td>\n",
       "    </tr>\n",
       "    <tr>\n",
       "      <th>300</th>\n",
       "      <td>2023-11-01</td>\n",
       "      <td>75900</td>\n",
       "      <td>76000</td>\n",
       "      <td>72500</td>\n",
       "      <td>74000</td>\n",
       "      <td>97700</td>\n",
       "      <td>MCH</td>\n",
       "      <td>76726.164853</td>\n",
       "    </tr>\n",
       "    <tr>\n",
       "      <th>301</th>\n",
       "      <td>2023-11-02</td>\n",
       "      <td>74700</td>\n",
       "      <td>75000</td>\n",
       "      <td>73900</td>\n",
       "      <td>74000</td>\n",
       "      <td>42500</td>\n",
       "      <td>MCH</td>\n",
       "      <td>76720.402092</td>\n",
       "    </tr>\n",
       "    <tr>\n",
       "      <th>302</th>\n",
       "      <td>2023-11-03</td>\n",
       "      <td>74100</td>\n",
       "      <td>74100</td>\n",
       "      <td>72500</td>\n",
       "      <td>72800</td>\n",
       "      <td>42500</td>\n",
       "      <td>MCH</td>\n",
       "      <td>77296.737008</td>\n",
       "    </tr>\n",
       "    <tr>\n",
       "      <th>303</th>\n",
       "      <td>2023-11-06</td>\n",
       "      <td>73100</td>\n",
       "      <td>74000</td>\n",
       "      <td>73100</td>\n",
       "      <td>74000</td>\n",
       "      <td>39500</td>\n",
       "      <td>MCH</td>\n",
       "      <td>78367.699344</td>\n",
       "    </tr>\n",
       "    <tr>\n",
       "      <th>304</th>\n",
       "      <td>2023-11-07</td>\n",
       "      <td>74000</td>\n",
       "      <td>77200</td>\n",
       "      <td>73600</td>\n",
       "      <td>75300</td>\n",
       "      <td>72400</td>\n",
       "      <td>MCH</td>\n",
       "      <td>78854.407322</td>\n",
       "    </tr>\n",
       "    <tr>\n",
       "      <th>305</th>\n",
       "      <td>2023-11-08</td>\n",
       "      <td>75100</td>\n",
       "      <td>76000</td>\n",
       "      <td>75100</td>\n",
       "      <td>76000</td>\n",
       "      <td>12400</td>\n",
       "      <td>MCH</td>\n",
       "      <td>79315.436746</td>\n",
       "    </tr>\n",
       "    <tr>\n",
       "      <th>306</th>\n",
       "      <td>2023-11-09</td>\n",
       "      <td>75900</td>\n",
       "      <td>77500</td>\n",
       "      <td>75900</td>\n",
       "      <td>77500</td>\n",
       "      <td>36300</td>\n",
       "      <td>MCH</td>\n",
       "      <td>79278.376146</td>\n",
       "    </tr>\n",
       "    <tr>\n",
       "      <th>307</th>\n",
       "      <td>2023-11-10</td>\n",
       "      <td>77500</td>\n",
       "      <td>80000</td>\n",
       "      <td>77000</td>\n",
       "      <td>78900</td>\n",
       "      <td>47400</td>\n",
       "      <td>MCH</td>\n",
       "      <td>78307.955488</td>\n",
       "    </tr>\n",
       "    <tr>\n",
       "      <th>308</th>\n",
       "      <td>2023-11-13</td>\n",
       "      <td>78000</td>\n",
       "      <td>79000</td>\n",
       "      <td>77700</td>\n",
       "      <td>77700</td>\n",
       "      <td>12800</td>\n",
       "      <td>MCH</td>\n",
       "      <td>78243.355554</td>\n",
       "    </tr>\n",
       "    <tr>\n",
       "      <th>309</th>\n",
       "      <td>2023-11-14</td>\n",
       "      <td>78000</td>\n",
       "      <td>78000</td>\n",
       "      <td>77000</td>\n",
       "      <td>77000</td>\n",
       "      <td>22900</td>\n",
       "      <td>MCH</td>\n",
       "      <td>77959.868461</td>\n",
       "    </tr>\n",
       "    <tr>\n",
       "      <th>310</th>\n",
       "      <td>2023-11-15</td>\n",
       "      <td>77900</td>\n",
       "      <td>80500</td>\n",
       "      <td>77900</td>\n",
       "      <td>80300</td>\n",
       "      <td>57700</td>\n",
       "      <td>MCH</td>\n",
       "      <td>76825.953879</td>\n",
       "    </tr>\n",
       "    <tr>\n",
       "      <th>311</th>\n",
       "      <td>2023-11-16</td>\n",
       "      <td>80400</td>\n",
       "      <td>81000</td>\n",
       "      <td>80000</td>\n",
       "      <td>81000</td>\n",
       "      <td>25400</td>\n",
       "      <td>MCH</td>\n",
       "      <td>76769.886582</td>\n",
       "    </tr>\n",
       "    <tr>\n",
       "      <th>312</th>\n",
       "      <td>2023-11-17</td>\n",
       "      <td>80000</td>\n",
       "      <td>80000</td>\n",
       "      <td>78000</td>\n",
       "      <td>80000</td>\n",
       "      <td>10100</td>\n",
       "      <td>MCH</td>\n",
       "      <td>76620.803016</td>\n",
       "    </tr>\n",
       "    <tr>\n",
       "      <th>313</th>\n",
       "      <td>2023-11-20</td>\n",
       "      <td>80000</td>\n",
       "      <td>80900</td>\n",
       "      <td>79900</td>\n",
       "      <td>80000</td>\n",
       "      <td>21600</td>\n",
       "      <td>MCH</td>\n",
       "      <td>76615.040255</td>\n",
       "    </tr>\n",
       "    <tr>\n",
       "      <th>314</th>\n",
       "      <td>2023-11-21</td>\n",
       "      <td>79500</td>\n",
       "      <td>80300</td>\n",
       "      <td>79500</td>\n",
       "      <td>80300</td>\n",
       "      <td>10300</td>\n",
       "      <td>MCH</td>\n",
       "      <td>77191.375171</td>\n",
       "    </tr>\n",
       "    <tr>\n",
       "      <th>315</th>\n",
       "      <td>2023-11-22</td>\n",
       "      <td>81000</td>\n",
       "      <td>81000</td>\n",
       "      <td>79000</td>\n",
       "      <td>79500</td>\n",
       "      <td>38700</td>\n",
       "      <td>MCH</td>\n",
       "      <td>78262.337507</td>\n",
       "    </tr>\n",
       "    <tr>\n",
       "      <th>316</th>\n",
       "      <td>2023-11-23</td>\n",
       "      <td>80500</td>\n",
       "      <td>80500</td>\n",
       "      <td>79100</td>\n",
       "      <td>79100</td>\n",
       "      <td>15200</td>\n",
       "      <td>MCH</td>\n",
       "      <td>78749.045486</td>\n",
       "    </tr>\n",
       "    <tr>\n",
       "      <th>317</th>\n",
       "      <td>2023-11-24</td>\n",
       "      <td>78200</td>\n",
       "      <td>79000</td>\n",
       "      <td>77000</td>\n",
       "      <td>77000</td>\n",
       "      <td>108700</td>\n",
       "      <td>MCH</td>\n",
       "      <td>79210.074910</td>\n",
       "    </tr>\n",
       "    <tr>\n",
       "      <th>318</th>\n",
       "      <td>2023-11-27</td>\n",
       "      <td>77600</td>\n",
       "      <td>80000</td>\n",
       "      <td>77000</td>\n",
       "      <td>78000</td>\n",
       "      <td>17700</td>\n",
       "      <td>MCH</td>\n",
       "      <td>79173.014310</td>\n",
       "    </tr>\n",
       "    <tr>\n",
       "      <th>319</th>\n",
       "      <td>2023-11-28</td>\n",
       "      <td>77800</td>\n",
       "      <td>79000</td>\n",
       "      <td>77600</td>\n",
       "      <td>78600</td>\n",
       "      <td>106000</td>\n",
       "      <td>MCH</td>\n",
       "      <td>78202.593652</td>\n",
       "    </tr>\n",
       "    <tr>\n",
       "      <th>320</th>\n",
       "      <td>2023-11-29</td>\n",
       "      <td>80000</td>\n",
       "      <td>80300</td>\n",
       "      <td>78100</td>\n",
       "      <td>80300</td>\n",
       "      <td>28100</td>\n",
       "      <td>MCH</td>\n",
       "      <td>78137.993718</td>\n",
       "    </tr>\n",
       "    <tr>\n",
       "      <th>321</th>\n",
       "      <td>2023-11-30</td>\n",
       "      <td>79000</td>\n",
       "      <td>81500</td>\n",
       "      <td>79000</td>\n",
       "      <td>81500</td>\n",
       "      <td>108400</td>\n",
       "      <td>MCH</td>\n",
       "      <td>77854.506624</td>\n",
       "    </tr>\n",
       "    <tr>\n",
       "      <th>322</th>\n",
       "      <td>2023-12-01</td>\n",
       "      <td>81000</td>\n",
       "      <td>85000</td>\n",
       "      <td>81000</td>\n",
       "      <td>84500</td>\n",
       "      <td>168200</td>\n",
       "      <td>MCH</td>\n",
       "      <td>76720.592043</td>\n",
       "    </tr>\n",
       "    <tr>\n",
       "      <th>323</th>\n",
       "      <td>2023-12-04</td>\n",
       "      <td>84500</td>\n",
       "      <td>86500</td>\n",
       "      <td>84500</td>\n",
       "      <td>86000</td>\n",
       "      <td>69500</td>\n",
       "      <td>MCH</td>\n",
       "      <td>76664.524745</td>\n",
       "    </tr>\n",
       "    <tr>\n",
       "      <th>324</th>\n",
       "      <td>2023-12-05</td>\n",
       "      <td>85000</td>\n",
       "      <td>87500</td>\n",
       "      <td>85000</td>\n",
       "      <td>87400</td>\n",
       "      <td>82900</td>\n",
       "      <td>MCH</td>\n",
       "      <td>76515.441180</td>\n",
       "    </tr>\n",
       "    <tr>\n",
       "      <th>325</th>\n",
       "      <td>2023-12-06</td>\n",
       "      <td>86800</td>\n",
       "      <td>87500</td>\n",
       "      <td>86600</td>\n",
       "      <td>87000</td>\n",
       "      <td>9500</td>\n",
       "      <td>MCH</td>\n",
       "      <td>76509.678418</td>\n",
       "    </tr>\n",
       "    <tr>\n",
       "      <th>326</th>\n",
       "      <td>2023-12-07</td>\n",
       "      <td>87200</td>\n",
       "      <td>87400</td>\n",
       "      <td>86400</td>\n",
       "      <td>87000</td>\n",
       "      <td>29300</td>\n",
       "      <td>MCH</td>\n",
       "      <td>77086.013335</td>\n",
       "    </tr>\n",
       "    <tr>\n",
       "      <th>327</th>\n",
       "      <td>2023-12-08</td>\n",
       "      <td>87000</td>\n",
       "      <td>87000</td>\n",
       "      <td>86000</td>\n",
       "      <td>86000</td>\n",
       "      <td>33600</td>\n",
       "      <td>MCH</td>\n",
       "      <td>78156.975671</td>\n",
       "    </tr>\n",
       "    <tr>\n",
       "      <th>328</th>\n",
       "      <td>2023-12-11</td>\n",
       "      <td>86600</td>\n",
       "      <td>86600</td>\n",
       "      <td>86200</td>\n",
       "      <td>86200</td>\n",
       "      <td>11300</td>\n",
       "      <td>MCH</td>\n",
       "      <td>78643.683649</td>\n",
       "    </tr>\n",
       "    <tr>\n",
       "      <th>329</th>\n",
       "      <td>2023-12-12</td>\n",
       "      <td>86200</td>\n",
       "      <td>86700</td>\n",
       "      <td>86200</td>\n",
       "      <td>86500</td>\n",
       "      <td>24900</td>\n",
       "      <td>MCH</td>\n",
       "      <td>79104.713073</td>\n",
       "    </tr>\n",
       "    <tr>\n",
       "      <th>330</th>\n",
       "      <td>2023-12-13</td>\n",
       "      <td>86400</td>\n",
       "      <td>86600</td>\n",
       "      <td>73700</td>\n",
       "      <td>86000</td>\n",
       "      <td>20500</td>\n",
       "      <td>MCH</td>\n",
       "      <td>79067.652473</td>\n",
       "    </tr>\n",
       "    <tr>\n",
       "      <th>331</th>\n",
       "      <td>2023-12-14</td>\n",
       "      <td>86000</td>\n",
       "      <td>86000</td>\n",
       "      <td>85000</td>\n",
       "      <td>85700</td>\n",
       "      <td>8600</td>\n",
       "      <td>MCH</td>\n",
       "      <td>78097.231815</td>\n",
       "    </tr>\n",
       "    <tr>\n",
       "      <th>332</th>\n",
       "      <td>2023-12-15</td>\n",
       "      <td>83000</td>\n",
       "      <td>87100</td>\n",
       "      <td>83000</td>\n",
       "      <td>85700</td>\n",
       "      <td>27200</td>\n",
       "      <td>MCH</td>\n",
       "      <td>78032.631881</td>\n",
       "    </tr>\n",
       "    <tr>\n",
       "      <th>333</th>\n",
       "      <td>2023-12-18</td>\n",
       "      <td>77000</td>\n",
       "      <td>87000</td>\n",
       "      <td>76900</td>\n",
       "      <td>85500</td>\n",
       "      <td>38100</td>\n",
       "      <td>MCH</td>\n",
       "      <td>77749.144787</td>\n",
       "    </tr>\n",
       "    <tr>\n",
       "      <th>334</th>\n",
       "      <td>2023-12-19</td>\n",
       "      <td>84500</td>\n",
       "      <td>86900</td>\n",
       "      <td>84500</td>\n",
       "      <td>86900</td>\n",
       "      <td>15300</td>\n",
       "      <td>MCH</td>\n",
       "      <td>76615.230206</td>\n",
       "    </tr>\n",
       "    <tr>\n",
       "      <th>335</th>\n",
       "      <td>2023-12-20</td>\n",
       "      <td>86500</td>\n",
       "      <td>87500</td>\n",
       "      <td>86400</td>\n",
       "      <td>86400</td>\n",
       "      <td>20600</td>\n",
       "      <td>MCH</td>\n",
       "      <td>76559.162909</td>\n",
       "    </tr>\n",
       "  </tbody>\n",
       "</table>\n",
       "</div>\n",
       "    <div class=\"colab-df-buttons\">\n",
       "\n",
       "  <div class=\"colab-df-container\">\n",
       "    <button class=\"colab-df-convert\" onclick=\"convertToInteractive('df-2b52e131-218f-405e-bca2-ca32be5a6815')\"\n",
       "            title=\"Convert this dataframe to an interactive table.\"\n",
       "            style=\"display:none;\">\n",
       "\n",
       "  <svg xmlns=\"http://www.w3.org/2000/svg\" height=\"24px\" viewBox=\"0 -960 960 960\">\n",
       "    <path d=\"M120-120v-720h720v720H120Zm60-500h600v-160H180v160Zm220 220h160v-160H400v160Zm0 220h160v-160H400v160ZM180-400h160v-160H180v160Zm440 0h160v-160H620v160ZM180-180h160v-160H180v160Zm440 0h160v-160H620v160Z\"/>\n",
       "  </svg>\n",
       "    </button>\n",
       "\n",
       "  <style>\n",
       "    .colab-df-container {\n",
       "      display:flex;\n",
       "      gap: 12px;\n",
       "    }\n",
       "\n",
       "    .colab-df-convert {\n",
       "      background-color: #E8F0FE;\n",
       "      border: none;\n",
       "      border-radius: 50%;\n",
       "      cursor: pointer;\n",
       "      display: none;\n",
       "      fill: #1967D2;\n",
       "      height: 32px;\n",
       "      padding: 0 0 0 0;\n",
       "      width: 32px;\n",
       "    }\n",
       "\n",
       "    .colab-df-convert:hover {\n",
       "      background-color: #E2EBFA;\n",
       "      box-shadow: 0px 1px 2px rgba(60, 64, 67, 0.3), 0px 1px 3px 1px rgba(60, 64, 67, 0.15);\n",
       "      fill: #174EA6;\n",
       "    }\n",
       "\n",
       "    .colab-df-buttons div {\n",
       "      margin-bottom: 4px;\n",
       "    }\n",
       "\n",
       "    [theme=dark] .colab-df-convert {\n",
       "      background-color: #3B4455;\n",
       "      fill: #D2E3FC;\n",
       "    }\n",
       "\n",
       "    [theme=dark] .colab-df-convert:hover {\n",
       "      background-color: #434B5C;\n",
       "      box-shadow: 0px 1px 3px 1px rgba(0, 0, 0, 0.15);\n",
       "      filter: drop-shadow(0px 1px 2px rgba(0, 0, 0, 0.3));\n",
       "      fill: #FFFFFF;\n",
       "    }\n",
       "  </style>\n",
       "\n",
       "    <script>\n",
       "      const buttonEl =\n",
       "        document.querySelector('#df-2b52e131-218f-405e-bca2-ca32be5a6815 button.colab-df-convert');\n",
       "      buttonEl.style.display =\n",
       "        google.colab.kernel.accessAllowed ? 'block' : 'none';\n",
       "\n",
       "      async function convertToInteractive(key) {\n",
       "        const element = document.querySelector('#df-2b52e131-218f-405e-bca2-ca32be5a6815');\n",
       "        const dataTable =\n",
       "          await google.colab.kernel.invokeFunction('convertToInteractive',\n",
       "                                                    [key], {});\n",
       "        if (!dataTable) return;\n",
       "\n",
       "        const docLinkHtml = 'Like what you see? Visit the ' +\n",
       "          '<a target=\"_blank\" href=https://colab.research.google.com/notebooks/data_table.ipynb>data table notebook</a>'\n",
       "          + ' to learn more about interactive tables.';\n",
       "        element.innerHTML = '';\n",
       "        dataTable['output_type'] = 'display_data';\n",
       "        await google.colab.output.renderOutput(dataTable, element);\n",
       "        const docLink = document.createElement('div');\n",
       "        docLink.innerHTML = docLinkHtml;\n",
       "        element.appendChild(docLink);\n",
       "      }\n",
       "    </script>\n",
       "  </div>\n",
       "\n",
       "\n",
       "<div id=\"df-bc8ce4cb-6476-478e-81ec-276b4dd4bbbf\">\n",
       "  <button class=\"colab-df-quickchart\" onclick=\"quickchart('df-bc8ce4cb-6476-478e-81ec-276b4dd4bbbf')\"\n",
       "            title=\"Suggest charts\"\n",
       "            style=\"display:none;\">\n",
       "\n",
       "<svg xmlns=\"http://www.w3.org/2000/svg\" height=\"24px\"viewBox=\"0 0 24 24\"\n",
       "     width=\"24px\">\n",
       "    <g>\n",
       "        <path d=\"M19 3H5c-1.1 0-2 .9-2 2v14c0 1.1.9 2 2 2h14c1.1 0 2-.9 2-2V5c0-1.1-.9-2-2-2zM9 17H7v-7h2v7zm4 0h-2V7h2v10zm4 0h-2v-4h2v4z\"/>\n",
       "    </g>\n",
       "</svg>\n",
       "  </button>\n",
       "\n",
       "<style>\n",
       "  .colab-df-quickchart {\n",
       "      --bg-color: #E8F0FE;\n",
       "      --fill-color: #1967D2;\n",
       "      --hover-bg-color: #E2EBFA;\n",
       "      --hover-fill-color: #174EA6;\n",
       "      --disabled-fill-color: #AAA;\n",
       "      --disabled-bg-color: #DDD;\n",
       "  }\n",
       "\n",
       "  [theme=dark] .colab-df-quickchart {\n",
       "      --bg-color: #3B4455;\n",
       "      --fill-color: #D2E3FC;\n",
       "      --hover-bg-color: #434B5C;\n",
       "      --hover-fill-color: #FFFFFF;\n",
       "      --disabled-bg-color: #3B4455;\n",
       "      --disabled-fill-color: #666;\n",
       "  }\n",
       "\n",
       "  .colab-df-quickchart {\n",
       "    background-color: var(--bg-color);\n",
       "    border: none;\n",
       "    border-radius: 50%;\n",
       "    cursor: pointer;\n",
       "    display: none;\n",
       "    fill: var(--fill-color);\n",
       "    height: 32px;\n",
       "    padding: 0;\n",
       "    width: 32px;\n",
       "  }\n",
       "\n",
       "  .colab-df-quickchart:hover {\n",
       "    background-color: var(--hover-bg-color);\n",
       "    box-shadow: 0 1px 2px rgba(60, 64, 67, 0.3), 0 1px 3px 1px rgba(60, 64, 67, 0.15);\n",
       "    fill: var(--button-hover-fill-color);\n",
       "  }\n",
       "\n",
       "  .colab-df-quickchart-complete:disabled,\n",
       "  .colab-df-quickchart-complete:disabled:hover {\n",
       "    background-color: var(--disabled-bg-color);\n",
       "    fill: var(--disabled-fill-color);\n",
       "    box-shadow: none;\n",
       "  }\n",
       "\n",
       "  .colab-df-spinner {\n",
       "    border: 2px solid var(--fill-color);\n",
       "    border-color: transparent;\n",
       "    border-bottom-color: var(--fill-color);\n",
       "    animation:\n",
       "      spin 1s steps(1) infinite;\n",
       "  }\n",
       "\n",
       "  @keyframes spin {\n",
       "    0% {\n",
       "      border-color: transparent;\n",
       "      border-bottom-color: var(--fill-color);\n",
       "      border-left-color: var(--fill-color);\n",
       "    }\n",
       "    20% {\n",
       "      border-color: transparent;\n",
       "      border-left-color: var(--fill-color);\n",
       "      border-top-color: var(--fill-color);\n",
       "    }\n",
       "    30% {\n",
       "      border-color: transparent;\n",
       "      border-left-color: var(--fill-color);\n",
       "      border-top-color: var(--fill-color);\n",
       "      border-right-color: var(--fill-color);\n",
       "    }\n",
       "    40% {\n",
       "      border-color: transparent;\n",
       "      border-right-color: var(--fill-color);\n",
       "      border-top-color: var(--fill-color);\n",
       "    }\n",
       "    60% {\n",
       "      border-color: transparent;\n",
       "      border-right-color: var(--fill-color);\n",
       "    }\n",
       "    80% {\n",
       "      border-color: transparent;\n",
       "      border-right-color: var(--fill-color);\n",
       "      border-bottom-color: var(--fill-color);\n",
       "    }\n",
       "    90% {\n",
       "      border-color: transparent;\n",
       "      border-bottom-color: var(--fill-color);\n",
       "    }\n",
       "  }\n",
       "</style>\n",
       "\n",
       "  <script>\n",
       "    async function quickchart(key) {\n",
       "      const quickchartButtonEl =\n",
       "        document.querySelector('#' + key + ' button');\n",
       "      quickchartButtonEl.disabled = true;  // To prevent multiple clicks.\n",
       "      quickchartButtonEl.classList.add('colab-df-spinner');\n",
       "      try {\n",
       "        const charts = await google.colab.kernel.invokeFunction(\n",
       "            'suggestCharts', [key], {});\n",
       "      } catch (error) {\n",
       "        console.error('Error during call to suggestCharts:', error);\n",
       "      }\n",
       "      quickchartButtonEl.classList.remove('colab-df-spinner');\n",
       "      quickchartButtonEl.classList.add('colab-df-quickchart-complete');\n",
       "    }\n",
       "    (() => {\n",
       "      let quickchartButtonEl =\n",
       "        document.querySelector('#df-bc8ce4cb-6476-478e-81ec-276b4dd4bbbf button');\n",
       "      quickchartButtonEl.style.display =\n",
       "        google.colab.kernel.accessAllowed ? 'block' : 'none';\n",
       "    })();\n",
       "  </script>\n",
       "</div>\n",
       "\n",
       "    </div>\n",
       "  </div>\n"
      ],
      "text/plain": [
       "          time   open   high    low  close  volume ticker      Forecast\n",
       "288 2023-10-16  77000  77000  76400  76800    9500    MCH  76831.526690\n",
       "289 2023-10-17  76500  77100  76500  77000   13700    MCH  76825.763928\n",
       "290 2023-10-18  77300  78200  76500  77700   38800    MCH  77402.098845\n",
       "291 2023-10-19  77400  77400  77000  77000   16700    MCH  78473.061180\n",
       "292 2023-10-20  77000  78000  77000  77000   18100    MCH  78959.769159\n",
       "293 2023-10-23  77600  77600  77000  77000   37400    MCH  79420.798583\n",
       "294 2023-10-24  76000  77300  76000  77000   40800    MCH  79383.737983\n",
       "295 2023-10-25  77000  77200  77000  77000   37700    MCH  78413.317325\n",
       "296 2023-10-26  77000  77100  74500  75500   30600    MCH  78348.717391\n",
       "297 2023-10-27  75500  75800  74800  75000   87900    MCH  78065.230297\n",
       "298 2023-10-30  75200  76500  74600  76000   38500    MCH  76931.315716\n",
       "299 2023-10-31  78000  78000  75000  75300   64500    MCH  76875.248419\n",
       "300 2023-11-01  75900  76000  72500  74000   97700    MCH  76726.164853\n",
       "301 2023-11-02  74700  75000  73900  74000   42500    MCH  76720.402092\n",
       "302 2023-11-03  74100  74100  72500  72800   42500    MCH  77296.737008\n",
       "303 2023-11-06  73100  74000  73100  74000   39500    MCH  78367.699344\n",
       "304 2023-11-07  74000  77200  73600  75300   72400    MCH  78854.407322\n",
       "305 2023-11-08  75100  76000  75100  76000   12400    MCH  79315.436746\n",
       "306 2023-11-09  75900  77500  75900  77500   36300    MCH  79278.376146\n",
       "307 2023-11-10  77500  80000  77000  78900   47400    MCH  78307.955488\n",
       "308 2023-11-13  78000  79000  77700  77700   12800    MCH  78243.355554\n",
       "309 2023-11-14  78000  78000  77000  77000   22900    MCH  77959.868461\n",
       "310 2023-11-15  77900  80500  77900  80300   57700    MCH  76825.953879\n",
       "311 2023-11-16  80400  81000  80000  81000   25400    MCH  76769.886582\n",
       "312 2023-11-17  80000  80000  78000  80000   10100    MCH  76620.803016\n",
       "313 2023-11-20  80000  80900  79900  80000   21600    MCH  76615.040255\n",
       "314 2023-11-21  79500  80300  79500  80300   10300    MCH  77191.375171\n",
       "315 2023-11-22  81000  81000  79000  79500   38700    MCH  78262.337507\n",
       "316 2023-11-23  80500  80500  79100  79100   15200    MCH  78749.045486\n",
       "317 2023-11-24  78200  79000  77000  77000  108700    MCH  79210.074910\n",
       "318 2023-11-27  77600  80000  77000  78000   17700    MCH  79173.014310\n",
       "319 2023-11-28  77800  79000  77600  78600  106000    MCH  78202.593652\n",
       "320 2023-11-29  80000  80300  78100  80300   28100    MCH  78137.993718\n",
       "321 2023-11-30  79000  81500  79000  81500  108400    MCH  77854.506624\n",
       "322 2023-12-01  81000  85000  81000  84500  168200    MCH  76720.592043\n",
       "323 2023-12-04  84500  86500  84500  86000   69500    MCH  76664.524745\n",
       "324 2023-12-05  85000  87500  85000  87400   82900    MCH  76515.441180\n",
       "325 2023-12-06  86800  87500  86600  87000    9500    MCH  76509.678418\n",
       "326 2023-12-07  87200  87400  86400  87000   29300    MCH  77086.013335\n",
       "327 2023-12-08  87000  87000  86000  86000   33600    MCH  78156.975671\n",
       "328 2023-12-11  86600  86600  86200  86200   11300    MCH  78643.683649\n",
       "329 2023-12-12  86200  86700  86200  86500   24900    MCH  79104.713073\n",
       "330 2023-12-13  86400  86600  73700  86000   20500    MCH  79067.652473\n",
       "331 2023-12-14  86000  86000  85000  85700    8600    MCH  78097.231815\n",
       "332 2023-12-15  83000  87100  83000  85700   27200    MCH  78032.631881\n",
       "333 2023-12-18  77000  87000  76900  85500   38100    MCH  77749.144787\n",
       "334 2023-12-19  84500  86900  84500  86900   15300    MCH  76615.230206\n",
       "335 2023-12-20  86500  87500  86400  86400   20600    MCH  76559.162909"
      ]
     },
     "execution_count": 170,
     "metadata": {},
     "output_type": "execute_result"
    }
   ],
   "source": [
    "df1.tail(len(test))"
   ]
  },
  {
   "cell_type": "code",
   "execution_count": null,
   "metadata": {
    "colab": {
     "base_uri": "https://localhost:8080/"
    },
    "executionInfo": {
     "elapsed": 39,
     "status": "ok",
     "timestamp": 1703344461154,
     "user": {
      "displayName": "Nguyễn Thị Kim Hiếu",
      "userId": "02232876476613403914"
     },
     "user_tz": -420
    },
    "id": "FKLILN1CETHd",
    "outputId": "0054391f-9940-45c6-d904-7ecc29b7af8b"
   },
   "outputs": [
    {
     "data": {
      "text/plain": [
       "288    76800\n",
       "289    77000\n",
       "290    77700\n",
       "291    77000\n",
       "292    77000\n",
       "293    77000\n",
       "294    77000\n",
       "295    77000\n",
       "296    75500\n",
       "297    75000\n",
       "298    76000\n",
       "299    75300\n",
       "300    74000\n",
       "301    74000\n",
       "302    72800\n",
       "303    74000\n",
       "304    75300\n",
       "305    76000\n",
       "306    77500\n",
       "307    78900\n",
       "308    77700\n",
       "309    77000\n",
       "310    80300\n",
       "311    81000\n",
       "312    80000\n",
       "313    80000\n",
       "314    80300\n",
       "315    79500\n",
       "316    79100\n",
       "317    77000\n",
       "318    78000\n",
       "319    78600\n",
       "320    80300\n",
       "321    81500\n",
       "322    84500\n",
       "323    86000\n",
       "324    87400\n",
       "325    87000\n",
       "326    87000\n",
       "327    86000\n",
       "328    86200\n",
       "329    86500\n",
       "330    86000\n",
       "331    85700\n",
       "332    85700\n",
       "333    85500\n",
       "334    86900\n",
       "335    86400\n",
       "Name: close, dtype: int64"
      ]
     },
     "execution_count": 176,
     "metadata": {},
     "output_type": "execute_result"
    }
   ],
   "source": [
    "import pandas as pd\n",
    "\n",
    "# Assume df1 is your DataFrame containing 'time' and 'close' columns\n",
    "# And df is your original DataFrame containing 'Close' column\n",
    "\n",
    "# Filter df1 based on time condition\n",
    "filtered_df1 = df1[(df1['time'] >= '2023-10-16') & (df1['time'] <= '2023-12-20')]\n",
    "\n",
    "# Filter df based on the time range obtained from filtered_df1 and extract 'Close' column\n",
    "filtered_close = df1[(df1['time'] >= '2023-10-16') & (df1['time'] <= '2023-12-20')]['close']\n",
    "filtered_close"
   ]
  },
  {
   "cell_type": "code",
   "execution_count": null,
   "metadata": {
    "colab": {
     "base_uri": "https://localhost:8080/"
    },
    "executionInfo": {
     "elapsed": 438,
     "status": "ok",
     "timestamp": 1703344469368,
     "user": {
      "displayName": "Nguyễn Thị Kim Hiếu",
      "userId": "02232876476613403914"
     },
     "user_tz": -420
    },
    "id": "RgAyAeTAKl0b",
    "outputId": "295b13d6-9d34-424d-9cbc-440754ea2d3c"
   },
   "outputs": [
    {
     "name": "stdout",
     "output_type": "stream",
     "text": [
      "     Close       Time      Forecast\n",
      "288  76800 2023-10-16  76831.526690\n",
      "289  77000 2023-10-17  76825.763928\n",
      "290  77700 2023-10-18  77402.098845\n",
      "291  77000 2023-10-19  78473.061180\n",
      "292  77000 2023-10-20  78959.769159\n",
      "293  77000 2023-10-23  79420.798583\n",
      "294  77000 2023-10-24  79383.737983\n",
      "295  77000 2023-10-25  78413.317325\n",
      "296  75500 2023-10-26  78348.717391\n",
      "297  75000 2023-10-27  78065.230297\n",
      "298  76000 2023-10-30  76931.315716\n",
      "299  75300 2023-10-31  76875.248419\n",
      "300  74000 2023-11-01  76726.164853\n",
      "301  74000 2023-11-02  76720.402092\n",
      "302  72800 2023-11-03  77296.737008\n",
      "303  74000 2023-11-06  78367.699344\n",
      "304  75300 2023-11-07  78854.407322\n",
      "305  76000 2023-11-08  79315.436746\n",
      "306  77500 2023-11-09  79278.376146\n",
      "307  78900 2023-11-10  78307.955488\n",
      "308  77700 2023-11-13  78243.355554\n",
      "309  77000 2023-11-14  77959.868461\n",
      "310  80300 2023-11-15  76825.953879\n",
      "311  81000 2023-11-16  76769.886582\n",
      "312  80000 2023-11-17  76620.803016\n",
      "313  80000 2023-11-20  76615.040255\n",
      "314  80300 2023-11-21  77191.375171\n",
      "315  79500 2023-11-22  78262.337507\n",
      "316  79100 2023-11-23  78749.045486\n",
      "317  77000 2023-11-24  79210.074910\n",
      "318  78000 2023-11-27  79173.014310\n",
      "319  78600 2023-11-28  78202.593652\n",
      "320  80300 2023-11-29  78137.993718\n",
      "321  81500 2023-11-30  77854.506624\n",
      "322  84500 2023-12-01  76720.592043\n",
      "323  86000 2023-12-04  76664.524745\n",
      "324  87400 2023-12-05  76515.441180\n",
      "325  87000 2023-12-06  76509.678418\n",
      "326  87000 2023-12-07  77086.013335\n",
      "327  86000 2023-12-08  78156.975671\n",
      "328  86200 2023-12-11  78643.683649\n",
      "329  86500 2023-12-12  79104.713073\n",
      "330  86000 2023-12-13  79067.652473\n",
      "331  85700 2023-12-14  78097.231815\n",
      "332  85700 2023-12-15  78032.631881\n",
      "333  85500 2023-12-18  77749.144787\n",
      "334  86900 2023-12-19  76615.230206\n",
      "335  86400 2023-12-20  76559.162909\n"
     ]
    }
   ],
   "source": [
    "import pandas as pd\n",
    "\n",
    "# Tạo DataFrame từ các Series\n",
    "pram = pd.DataFrame({\n",
    "    'Close': filtered_close,\n",
    "    'Time': filtered_df1['time'],  # Giả sử cột thời gian có tên là 'time' trong filtered_df1\n",
    "    'Forecast': filtered_forecast  # Giả sử dữ liệu forecast có tương ứng\n",
    "})\n",
    "# In DataFrame mới tạo ra\n",
    "print(pram)\n"
   ]
  },
  {
   "cell_type": "code",
   "execution_count": null,
   "metadata": {
    "colab": {
     "base_uri": "https://localhost:8080/",
     "height": 564
    },
    "executionInfo": {
     "elapsed": 712,
     "status": "ok",
     "timestamp": 1703344269871,
     "user": {
      "displayName": "Nguyễn Thị Kim Hiếu",
      "userId": "02232876476613403914"
     },
     "user_tz": -420
    },
    "id": "YzWb2aCECyxM",
    "outputId": "dccaa57a-f896-439b-e8b4-e7b230326437"
   },
   "outputs": [
    {
     "data": {
      "image/png": "[encoded data removed]",
      "text/plain": [
       "<Figure size 1000x600 with 1 Axes>"
      ]
     },
     "metadata": {},
     "output_type": "display_data"
    }
   ],
   "source": [
    "# Vẽ biểu đồ cho 'filtered_close' và 'filtered_forecast'\n",
    "import matplotlib.pyplot as plt\n",
    "plt.figure(figsize=(10, 6))\n",
    "plt.plot(filtered_df1['time'], filtered_close, label='Close')\n",
    "plt.plot(filtered_df1['time'], filtered_forecast, label='Forecast', linestyle='--')\n",
    "plt.xlabel('Time')\n",
    "plt.ylabel('Price')\n",
    "plt.title('Close vs Forecast')\n",
    "plt.legend()\n",
    "plt.show()"
   ]
  },
  {
   "cell_type": "code",
   "execution_count": null,
   "metadata": {
    "colab": {
     "base_uri": "https://localhost:8080/"
    },
    "executionInfo": {
     "elapsed": 632,
     "status": "ok",
     "timestamp": 1703344543120,
     "user": {
      "displayName": "Nguyễn Thị Kim Hiếu",
      "userId": "02232876476613403914"
     },
     "user_tz": -420
    },
    "id": "LoUx5qCsESDW",
    "outputId": "93fa8e19-914c-4e29-d23b-f78f4972b53c"
   },
   "outputs": [
    {
     "name": "stdout",
     "output_type": "stream",
     "text": [
      "RMSE: 5177.430767909706\n"
     ]
    }
   ],
   "source": [
    "from sklearn.metrics import mean_squared_error\n",
    "import numpy as np\n",
    "\n",
    "# Tính RMSE\n",
    "rmse = np.sqrt(mean_squared_error(filtered_close, filtered_forecast))\n",
    "print('RMSE:', rmse)\n"
   ]
  },
  {
   "cell_type": "markdown",
   "metadata": {
    "id": "ir3LKukyRbHz"
   },
   "source": [
    "#####**Mô Hình trung bình trượt**#####"
   ]
  },
  {
   "cell_type": "code",
   "execution_count": null,
   "metadata": {
    "colab": {
     "base_uri": "https://localhost:8080/",
     "height": 564
    },
    "executionInfo": {
     "elapsed": 1224,
     "status": "ok",
     "timestamp": 1703345111542,
     "user": {
      "displayName": "Nguyễn Thị Kim Hiếu",
      "userId": "02232876476613403914"
     },
     "user_tz": -420
    },
    "id": "zxZ7ncsYRgB4",
    "outputId": "94d389ad-b721-4568-aadd-b9ca8ae6a64c"
   },
   "outputs": [
    {
     "data": {
      "image/png": "[encoded data removed]",
      "text/plain": [
       "<Figure size 1000x600 with 1 Axes>"
      ]
     },
     "metadata": {},
     "output_type": "display_data"
    }
   ],
   "source": [
    "import pandas as pd\n",
    "import matplotlib.pyplot as plt\n",
    "\n",
    "# Assume df1 is your DataFrame containing 'time' and 'close' columns\n",
    "\n",
    "# Chọn cột 'Close' từ df1\n",
    "close_prices = df1['close']\n",
    "\n",
    "# Độ dài của cửa sổ trượt\n",
    "window_size = 10 # Đây là ví dụ, bạn có thể điều chỉnh kích thước cửa sổ theo nhu cầu của mình\n",
    "\n",
    "# Tạo một Series dự đoán bằng cách sử dụng trung bình trượt\n",
    "rolling_mean = close_prices.rolling(window=window_size).mean()\n",
    "\n",
    "# Vẽ biểu đồ dự đoán và giá thực tế\n",
    "plt.figure(figsize=(10, 6))\n",
    "plt.plot(df1['time'], close_prices, label='Actual Close Price')\n",
    "plt.plot(df1['time'], rolling_mean, label=f'Rolling Mean ({window_size} periods)')\n",
    "plt.xlabel('Time')\n",
    "plt.ylabel('Price')\n",
    "plt.title('Actual Close Price vs Rolling Mean Prediction')\n",
    "plt.legend()\n",
    "plt.show()\n"
   ]
  },
  {
   "cell_type": "code",
   "execution_count": null,
   "metadata": {
    "colab": {
     "base_uri": "https://localhost:8080/"
    },
    "executionInfo": {
     "elapsed": 406,
     "status": "ok",
     "timestamp": 1703345284476,
     "user": {
      "displayName": "Nguyễn Thị Kim Hiếu",
      "userId": "02232876476613403914"
     },
     "user_tz": -420
    },
    "id": "Hz1zydsISBlZ",
    "outputId": "461c070d-d76c-431b-c265-997a8cbcc7fd"
   },
   "outputs": [
    {
     "name": "stdout",
     "output_type": "stream",
     "text": [
      "RMSE: 2515.1015680158716\n"
     ]
    }
   ],
   "source": [
    "from sklearn.metrics import mean_squared_error\n",
    "import numpy as np\n",
    "\n",
    "# Sử dụng giá đóng cửa thực tế và giá dự đoán từ trung bình trượt\n",
    "actual_close_prices = df1['close']\n",
    "predicted_close_prices = close_prices.rolling(window=window_size).mean()\n",
    "\n",
    "# Loại bỏ các giá trị NaN nếu có\n",
    "actual_close_prices = actual_close_prices.dropna()\n",
    "predicted_close_prices = predicted_close_prices[window_size - 1:]  # Đảm bảo cùng độ dài\n",
    "\n",
    "# Chỉ sử dụng số lượng mẫu tương ứng\n",
    "actual_close_prices = actual_close_prices[:len(predicted_close_prices)]\n",
    "\n",
    "# Tính RMSE\n",
    "rmse = np.sqrt(mean_squared_error(actual_close_prices, predicted_close_prices))\n",
    "print('RMSE:', rmse)\n"
   ]
  },
  {
   "cell_type": "code",
   "execution_count": null,
   "metadata": {
    "id": "rgO-gASujdu_"
   },
   "outputs": [],
   "source": []
  },
  {
   "cell_type": "markdown",
   "metadata": {
    "id": "cGeK_GUJTIvG"
   },
   "source": [
    "#####**Mô hình ARIMA**#####"
   ]
  },
  {
   "cell_type": "code",
   "execution_count": null,
   "metadata": {
    "colab": {
     "base_uri": "https://localhost:8080/"
    },
    "executionInfo": {
     "elapsed": 514,
     "status": "ok",
     "timestamp": 1703345487117,
     "user": {
      "displayName": "Nguyễn Thị Kim Hiếu",
      "userId": "02232876476613403914"
     },
     "user_tz": -420
    },
    "id": "L76Kflf0TS1O",
    "outputId": "f1a37a99-7d20-44c4-b3f5-bbc21b7c863d"
   },
   "outputs": [
    {
     "name": "stdout",
     "output_type": "stream",
     "text": [
      "ADF Statistic: -0.36130132878826976\n",
      "p-value: 0.9163623304694178\n",
      "Critical Values: {'1%': -3.5778480370438146, '5%': -2.925338105429433, '10%': -2.6007735310095064}\n"
     ]
    }
   ],
   "source": [
    "#Kiểm định nghiệm đơn vị\n",
    "from statsmodels.tsa.stattools import adfuller\n",
    "import pandas as pd\n",
    "\n",
    "time_series = df1['close']\n",
    "          # Thực hiện kiểm định ADF\n",
    "result = adfuller(time_series)\n",
    "\n",
    "print('ADF Statistic:', result[0])\n",
    "print('p-value:', result[1])\n",
    "print('Critical Values:', result[4])\n"
   ]
  },
  {
   "cell_type": "code",
   "execution_count": null,
   "metadata": {
    "colab": {
     "base_uri": "https://localhost:8080/"
    },
    "executionInfo": {
     "elapsed": 521,
     "status": "ok",
     "timestamp": 1703345644591,
     "user": {
      "displayName": "Nguyễn Thị Kim Hiếu",
      "userId": "02232876476613403914"
     },
     "user_tz": -420
    },
    "id": "FnIW1HuWTXhY",
    "outputId": "9cdbb4c5-973a-4516-e7e6-960d272d26e8"
   },
   "outputs": [
    {
     "name": "stdout",
     "output_type": "stream",
     "text": [
      "288      NaN\n",
      "289    200.0\n",
      "290    700.0\n",
      "291   -700.0\n",
      "292      0.0\n",
      "Name: Close_diff, dtype: float64\n"
     ]
    }
   ],
   "source": [
    "#Lấy sai phân bậc 1 của dữ liệu\n",
    "import pandas as pd\n",
    "\n",
    "# Lấy sai phân bậc 1 của cột 'Close'\n",
    "df1['Close_diff'] = df1['close'].diff()\n",
    "\n",
    "# In ra 5 hàng đầu tiên để kiểm tra kết quả\n",
    "print(df1['Close_diff'].head())\n"
   ]
  },
  {
   "cell_type": "code",
   "execution_count": null,
   "metadata": {
    "colab": {
     "base_uri": "https://localhost:8080/"
    },
    "executionInfo": {
     "elapsed": 465,
     "status": "ok",
     "timestamp": 1703345774586,
     "user": {
      "displayName": "Nguyễn Thị Kim Hiếu",
      "userId": "02232876476613403914"
     },
     "user_tz": -420
    },
    "id": "kxzTeYVhT99W",
    "outputId": "2f5dbadb-de43-4aa0-8cff-ef03c80bb1f1"
   },
   "outputs": [
    {
     "name": "stdout",
     "output_type": "stream",
     "text": [
      "ADF Statistic: -5.339679734132278\n",
      "p-value: 4.529108262406741e-06\n",
      "Critical Values: {'1%': -3.5812576580093696, '5%': -2.9267849124681518, '10%': -2.6015409829867675}\n"
     ]
    }
   ],
   "source": [
    "from statsmodels.tsa.stattools import adfuller\n",
    "import pandas as pd\n",
    "diff_series = df1['Close_diff'].dropna()  # Loại bỏ giá trị NaN nếu có\n",
    "\n",
    "# Thực hiện kiểm định ADF\n",
    "result_diff = adfuller(diff_series)\n",
    "\n",
    "print('ADF Statistic:', result_diff[0])\n",
    "print('p-value:', result_diff[1])\n",
    "print('Critical Values:', result_diff[4])\n"
   ]
  },
  {
   "cell_type": "code",
   "execution_count": null,
   "metadata": {
    "colab": {
     "base_uri": "https://localhost:8080/",
     "height": 503
    },
    "executionInfo": {
     "elapsed": 1741,
     "status": "ok",
     "timestamp": 1703353813690,
     "user": {
      "displayName": "Nguyễn Thị Kim Hiếu",
      "userId": "02232876476613403914"
     },
     "user_tz": -420
    },
    "id": "kIx1h8AnUJMK",
    "outputId": "b78f5752-9e2f-438a-b680-7401b2ad9ea4"
   },
   "outputs": [
    {
     "name": "stdout",
     "output_type": "stream",
     "text": [
      "1\n"
     ]
    },
    {
     "data": {
      "image/png": "[encoded data removed]",
      "text/plain": [
       "<Figure size 640x480 with 2 Axes>"
      ]
     },
     "metadata": {},
     "output_type": "display_data"
    }
   ],
   "source": [
    "import statsmodels.api as sm\n",
    "import matplotlib.pyplot as plt\n",
    "\n",
    "# Kiểm tra ổn định của chuỗi thời gian và xác định mức độ sai phân d\n",
    "result = adfuller(time_series)\n",
    "d = 1\n",
    "while result[1] > 0.05:\n",
    "    time_series = time_series.diff().dropna()  # Áp dụng sai phân\n",
    "    result = adfuller(time_series)\n",
    "    d += 1\n",
    "print(d)\n",
    "# Giả sử chuỗi thời gian là df1['close']\n",
    "df1['Close_diff'] = df1['close'].diff()\n",
    "diff_series = df1['Close_diff'].dropna()\n",
    "\n",
    "plt.subplot(211)\n",
    "plot_acf(diff_series, ax=plt.gca(), lags=20)\n",
    "\n",
    "# PACF plot\n",
    "plt.subplot(212)\n",
    "plot_pacf(diff_series, ax=plt.gca(), lags=20)\n",
    "\n",
    "plt.tight_layout()\n",
    "plt.show()\n"
   ]
  },
  {
   "cell_type": "code",
   "execution_count": null,
   "metadata": {
    "colab": {
     "base_uri": "https://localhost:8080/"
    },
    "executionInfo": {
     "elapsed": 1047,
     "status": "ok",
     "timestamp": 1703351974742,
     "user": {
      "displayName": "Nguyễn Thị Kim Hiếu",
      "userId": "02232876476613403914"
     },
     "user_tz": -420
    },
    "id": "MhcfMfFqmM7K",
    "outputId": "770ea0b8-a621-41e0-81a4-10ae9799d9ec"
   },
   "outputs": [
    {
     "name": "stdout",
     "output_type": "stream",
     "text": [
      "           time   open   high    low  close  volume ticker\n",
      "0    2022-08-22  95590  95590  93420  93420    3800    MCH\n",
      "1    2022-08-23  92190  92480  91530  92480    2000    MCH\n",
      "2    2022-08-24  92000  93800  92000  92950    2200    MCH\n",
      "3    2022-08-25  97480  97480  92000  92000   14300    MCH\n",
      "4    2022-08-26  91530  91530  89640  89740   17500    MCH\n",
      "..          ...    ...    ...    ...    ...     ...    ...\n",
      "331  2023-12-14  86000  86000  85000  85700    8600    MCH\n",
      "332  2023-12-15  83000  87100  83000  85700   27200    MCH\n",
      "333  2023-12-18  77000  87000  76900  85500   38100    MCH\n",
      "334  2023-12-19  84500  86900  84500  86900   15300    MCH\n",
      "335  2023-12-20  86500  87500  86400  86400   20600    MCH\n",
      "\n",
      "[336 rows x 7 columns]\n"
     ]
    }
   ],
   "source": [
    "df1 =  stock_historical_data(symbol='MCH',\n",
    "                            start_date=\"2022-08-22\",\n",
    "                            end_date='2023-12-20', resolution='1D', type='stock', beautify=True, decor=False, source='DNSE')\n",
    "print(df1)\n",
    "# Đảm bảo cột 'Date' trong dataframe là kiểu datetime\n",
    "df1['time'] = pd.to_datetime(df1['time'])"
   ]
  },
  {
   "cell_type": "code",
   "execution_count": null,
   "metadata": {
    "colab": {
     "base_uri": "https://localhost:8080/"
    },
    "executionInfo": {
     "elapsed": 943,
     "status": "ok",
     "timestamp": 1703353826227,
     "user": {
      "displayName": "Nguyễn Thị Kim Hiếu",
      "userId": "02232876476613403914"
     },
     "user_tz": -420
    },
    "id": "sgd45u6_U0iG",
    "outputId": "e87860d3-43b1-46b9-f3c4-a3cf4de220ae"
   },
   "outputs": [
    {
     "name": "stderr",
     "output_type": "stream",
     "text": [
      "/usr/local/lib/python3.10/dist-packages/statsmodels/tsa/statespace/sarimax.py:966: UserWarning: Non-stationary starting autoregressive parameters found. Using zeros as starting parameters.\n",
      "  warn('Non-stationary starting autoregressive parameters'\n"
     ]
    },
    {
     "name": "stdout",
     "output_type": "stream",
     "text": [
      "Forecast for the next 3 months:\n",
      "2023-10-16   NaN\n",
      "2023-10-17   NaN\n",
      "2023-10-18   NaN\n",
      "2023-10-19   NaN\n",
      "2023-10-20   NaN\n",
      "              ..\n",
      "2023-12-16   NaN\n",
      "2023-12-17   NaN\n",
      "2023-12-18   NaN\n",
      "2023-12-19   NaN\n",
      "2023-12-20   NaN\n",
      "Freq: D, Name: predicted_mean, Length: 66, dtype: float64\n"
     ]
    }
   ],
   "source": [
    "import pandas as pd\n",
    "\n",
    "# Chia dữ liệu thành tập huấn luyện và tập kiểm tra\n",
    "train = df1.loc[df1['time'] <= '2023-10-15']\n",
    "test = df1.loc[(df1['time'] >= '2023-10-16') & (df1['time'] <= '2023-12-20')]\n",
    "h = valid['time'].nunique()\n",
    "\n",
    "# Giả sử chuỗi thời gian là df1['close']\n",
    "time_series = df1['close']\n",
    "\n",
    "# Xây dựng mô hình ARIMA(2,6,3)\n",
    "model = ARIMA(time_series, order=(1,1,1))\n",
    "results = model.fit()\n",
    "\n",
    "\n",
    "# Dự báo\n",
    "forecast_steps = len((test))   # Số ngày trong 3 tháng\n",
    "forecast = results.forecast(steps=forecast_steps)\n",
    "\n",
    "# Tạo index cho dự báo\n",
    "start_date =  '2023-10-16'\n",
    "end_date =  '2023-12-20'\n",
    "forecast_index = pd.date_range(start=start_date, end=end_date)\n",
    "\n",
    "# Hiển thị kết quả dự báo\n",
    "forecast_result = pd.Series(forecast, index=forecast_index)\n",
    "print('Forecast for the next 3 months:')\n",
    "print(forecast_result)\n"
   ]
  },
  {
   "cell_type": "code",
   "execution_count": null,
   "metadata": {
    "colab": {
     "base_uri": "https://localhost:8080/"
    },
    "executionInfo": {
     "elapsed": 415,
     "status": "ok",
     "timestamp": 1703353990227,
     "user": {
      "displayName": "Nguyễn Thị Kim Hiếu",
      "userId": "02232876476613403914"
     },
     "user_tz": -420
    },
    "id": "QeFbsNSEzru1",
    "outputId": "94b19de1-4259-4a83-8f5d-739e1a3a373c"
   },
   "outputs": [
    {
     "name": "stdout",
     "output_type": "stream",
     "text": [
      "                       Close       Time  Forecast\n",
      "288                  76800.0 2023-10-16       NaN\n",
      "289                  77000.0 2023-10-17       NaN\n",
      "290                  77700.0 2023-10-18       NaN\n",
      "291                  77000.0 2023-10-19       NaN\n",
      "292                  77000.0 2023-10-20       NaN\n",
      "...                      ...        ...       ...\n",
      "2023-12-16 00:00:00      NaN        NaT       NaN\n",
      "2023-12-17 00:00:00      NaN        NaT       NaN\n",
      "2023-12-18 00:00:00      NaN        NaT       NaN\n",
      "2023-12-19 00:00:00      NaN        NaT       NaN\n",
      "2023-12-20 00:00:00      NaN        NaT       NaN\n",
      "\n",
      "[114 rows x 3 columns]\n"
     ]
    }
   ],
   "source": [
    "# Tạo DataFrame từ các Series\n",
    "pram = pd.DataFrame({\n",
    "    'Close': filtered_close,\n",
    "    'Time': filtered_df1['time'],  # Giả sử cột thời gian có tên là 'time' trong filtered_df1\n",
    "    'Forecast': forecast_result  # Giả sử dữ liệu forecast có tương ứng\n",
    "})\n",
    "# In DataFrame mới tạo ra\n",
    "print(pram)"
   ]
  },
  {
   "cell_type": "code",
   "execution_count": null,
   "metadata": {
    "colab": {
     "base_uri": "https://localhost:8080/",
     "height": 899
    },
    "executionInfo": {
     "elapsed": 830,
     "status": "error",
     "timestamp": 1703354049998,
     "user": {
      "displayName": "Nguyễn Thị Kim Hiếu",
      "userId": "02232876476613403914"
     },
     "user_tz": -420
    },
    "id": "jBS6LY17mXeO",
    "outputId": "721708ea-6a1b-48f9-9976-fb7e30e13a4e"
   },
   "outputs": [
    {
     "ename": "ValueError",
     "evalue": "ignored",
     "output_type": "error",
     "traceback": [
      "\u001b[0;31m---------------------------------------------------------------------------\u001b[0m",
      "\u001b[0;31mValueError\u001b[0m                                Traceback (most recent call last)",
      "\u001b[0;32m<ipython-input-237-eaf58a0b72b5>\u001b[0m in \u001b[0;36m<cell line: 5>\u001b[0;34m()\u001b[0m\n\u001b[1;32m      3\u001b[0m \u001b[0mplt\u001b[0m\u001b[0;34m.\u001b[0m\u001b[0mfigure\u001b[0m\u001b[0;34m(\u001b[0m\u001b[0mfigsize\u001b[0m\u001b[0;34m=\u001b[0m\u001b[0;34m(\u001b[0m\u001b[0;36m10\u001b[0m\u001b[0;34m,\u001b[0m \u001b[0;36m6\u001b[0m\u001b[0;34m)\u001b[0m\u001b[0;34m)\u001b[0m\u001b[0;34m\u001b[0m\u001b[0;34m\u001b[0m\u001b[0m\n\u001b[1;32m      4\u001b[0m \u001b[0mplt\u001b[0m\u001b[0;34m.\u001b[0m\u001b[0mplot\u001b[0m\u001b[0;34m(\u001b[0m\u001b[0mfiltered_df1\u001b[0m\u001b[0;34m[\u001b[0m\u001b[0;34m'time'\u001b[0m\u001b[0;34m]\u001b[0m\u001b[0;34m,\u001b[0m \u001b[0mfiltered_close\u001b[0m\u001b[0;34m,\u001b[0m \u001b[0mlabel\u001b[0m\u001b[0;34m=\u001b[0m\u001b[0;34m'Close'\u001b[0m\u001b[0;34m)\u001b[0m\u001b[0;34m\u001b[0m\u001b[0;34m\u001b[0m\u001b[0m\n\u001b[0;32m----> 5\u001b[0;31m \u001b[0mplt\u001b[0m\u001b[0;34m.\u001b[0m\u001b[0mplot\u001b[0m\u001b[0;34m(\u001b[0m\u001b[0mfiltered_df1\u001b[0m\u001b[0;34m[\u001b[0m\u001b[0;34m'time'\u001b[0m\u001b[0;34m]\u001b[0m\u001b[0;34m,\u001b[0m \u001b[0mforecast_result\u001b[0m\u001b[0;34m,\u001b[0m \u001b[0mlabel\u001b[0m\u001b[0;34m=\u001b[0m\u001b[0;34m'Forecast'\u001b[0m\u001b[0;34m,\u001b[0m \u001b[0mlinestyle\u001b[0m\u001b[0;34m=\u001b[0m\u001b[0;34m'--'\u001b[0m\u001b[0;34m)\u001b[0m\u001b[0;34m\u001b[0m\u001b[0;34m\u001b[0m\u001b[0m\n\u001b[0m\u001b[1;32m      6\u001b[0m \u001b[0mplt\u001b[0m\u001b[0;34m.\u001b[0m\u001b[0mxlabel\u001b[0m\u001b[0;34m(\u001b[0m\u001b[0;34m'Time'\u001b[0m\u001b[0;34m)\u001b[0m\u001b[0;34m\u001b[0m\u001b[0;34m\u001b[0m\u001b[0m\n\u001b[1;32m      7\u001b[0m \u001b[0mplt\u001b[0m\u001b[0;34m.\u001b[0m\u001b[0mylabel\u001b[0m\u001b[0;34m(\u001b[0m\u001b[0;34m'Price'\u001b[0m\u001b[0;34m)\u001b[0m\u001b[0;34m\u001b[0m\u001b[0;34m\u001b[0m\u001b[0m\n",
      "\u001b[0;32m/usr/local/lib/python3.10/dist-packages/matplotlib/pyplot.py\u001b[0m in \u001b[0;36mplot\u001b[0;34m(scalex, scaley, data, *args, **kwargs)\u001b[0m\n\u001b[1;32m   2810\u001b[0m \u001b[0;34m@\u001b[0m\u001b[0m_copy_docstring_and_deprecators\u001b[0m\u001b[0;34m(\u001b[0m\u001b[0mAxes\u001b[0m\u001b[0;34m.\u001b[0m\u001b[0mplot\u001b[0m\u001b[0;34m)\u001b[0m\u001b[0;34m\u001b[0m\u001b[0;34m\u001b[0m\u001b[0m\n\u001b[1;32m   2811\u001b[0m \u001b[0;32mdef\u001b[0m \u001b[0mplot\u001b[0m\u001b[0;34m(\u001b[0m\u001b[0;34m*\u001b[0m\u001b[0margs\u001b[0m\u001b[0;34m,\u001b[0m \u001b[0mscalex\u001b[0m\u001b[0;34m=\u001b[0m\u001b[0;32mTrue\u001b[0m\u001b[0;34m,\u001b[0m \u001b[0mscaley\u001b[0m\u001b[0;34m=\u001b[0m\u001b[0;32mTrue\u001b[0m\u001b[0;34m,\u001b[0m \u001b[0mdata\u001b[0m\u001b[0;34m=\u001b[0m\u001b[0;32mNone\u001b[0m\u001b[0;34m,\u001b[0m \u001b[0;34m**\u001b[0m\u001b[0mkwargs\u001b[0m\u001b[0;34m)\u001b[0m\u001b[0;34m:\u001b[0m\u001b[0;34m\u001b[0m\u001b[0;34m\u001b[0m\u001b[0m\n\u001b[0;32m-> 2812\u001b[0;31m     return gca().plot(\n\u001b[0m\u001b[1;32m   2813\u001b[0m         \u001b[0;34m*\u001b[0m\u001b[0margs\u001b[0m\u001b[0;34m,\u001b[0m \u001b[0mscalex\u001b[0m\u001b[0;34m=\u001b[0m\u001b[0mscalex\u001b[0m\u001b[0;34m,\u001b[0m \u001b[0mscaley\u001b[0m\u001b[0;34m=\u001b[0m\u001b[0mscaley\u001b[0m\u001b[0;34m,\u001b[0m\u001b[0;34m\u001b[0m\u001b[0;34m\u001b[0m\u001b[0m\n\u001b[1;32m   2814\u001b[0m         **({\"data\": data} if data is not None else {}), **kwargs)\n",
      "\u001b[0;32m/usr/local/lib/python3.10/dist-packages/matplotlib/axes/_axes.py\u001b[0m in \u001b[0;36mplot\u001b[0;34m(self, scalex, scaley, data, *args, **kwargs)\u001b[0m\n\u001b[1;32m   1686\u001b[0m         \"\"\"\n\u001b[1;32m   1687\u001b[0m         \u001b[0mkwargs\u001b[0m \u001b[0;34m=\u001b[0m \u001b[0mcbook\u001b[0m\u001b[0;34m.\u001b[0m\u001b[0mnormalize_kwargs\u001b[0m\u001b[0;34m(\u001b[0m\u001b[0mkwargs\u001b[0m\u001b[0;34m,\u001b[0m \u001b[0mmlines\u001b[0m\u001b[0;34m.\u001b[0m\u001b[0mLine2D\u001b[0m\u001b[0;34m)\u001b[0m\u001b[0;34m\u001b[0m\u001b[0;34m\u001b[0m\u001b[0m\n\u001b[0;32m-> 1688\u001b[0;31m         \u001b[0mlines\u001b[0m \u001b[0;34m=\u001b[0m \u001b[0;34m[\u001b[0m\u001b[0;34m*\u001b[0m\u001b[0mself\u001b[0m\u001b[0;34m.\u001b[0m\u001b[0m_get_lines\u001b[0m\u001b[0;34m(\u001b[0m\u001b[0;34m*\u001b[0m\u001b[0margs\u001b[0m\u001b[0;34m,\u001b[0m \u001b[0mdata\u001b[0m\u001b[0;34m=\u001b[0m\u001b[0mdata\u001b[0m\u001b[0;34m,\u001b[0m \u001b[0;34m**\u001b[0m\u001b[0mkwargs\u001b[0m\u001b[0;34m)\u001b[0m\u001b[0;34m]\u001b[0m\u001b[0;34m\u001b[0m\u001b[0;34m\u001b[0m\u001b[0m\n\u001b[0m\u001b[1;32m   1689\u001b[0m         \u001b[0;32mfor\u001b[0m \u001b[0mline\u001b[0m \u001b[0;32min\u001b[0m \u001b[0mlines\u001b[0m\u001b[0;34m:\u001b[0m\u001b[0;34m\u001b[0m\u001b[0;34m\u001b[0m\u001b[0m\n\u001b[1;32m   1690\u001b[0m             \u001b[0mself\u001b[0m\u001b[0;34m.\u001b[0m\u001b[0madd_line\u001b[0m\u001b[0;34m(\u001b[0m\u001b[0mline\u001b[0m\u001b[0;34m)\u001b[0m\u001b[0;34m\u001b[0m\u001b[0;34m\u001b[0m\u001b[0m\n",
      "\u001b[0;32m/usr/local/lib/python3.10/dist-packages/matplotlib/axes/_base.py\u001b[0m in \u001b[0;36m__call__\u001b[0;34m(self, data, *args, **kwargs)\u001b[0m\n\u001b[1;32m    309\u001b[0m                 \u001b[0mthis\u001b[0m \u001b[0;34m+=\u001b[0m \u001b[0margs\u001b[0m\u001b[0;34m[\u001b[0m\u001b[0;36m0\u001b[0m\u001b[0;34m]\u001b[0m\u001b[0;34m,\u001b[0m\u001b[0;34m\u001b[0m\u001b[0;34m\u001b[0m\u001b[0m\n\u001b[1;32m    310\u001b[0m                 \u001b[0margs\u001b[0m \u001b[0;34m=\u001b[0m \u001b[0margs\u001b[0m\u001b[0;34m[\u001b[0m\u001b[0;36m1\u001b[0m\u001b[0;34m:\u001b[0m\u001b[0;34m]\u001b[0m\u001b[0;34m\u001b[0m\u001b[0;34m\u001b[0m\u001b[0m\n\u001b[0;32m--> 311\u001b[0;31m             yield from self._plot_args(\n\u001b[0m\u001b[1;32m    312\u001b[0m                 this, kwargs, ambiguous_fmt_datakey=ambiguous_fmt_datakey)\n\u001b[1;32m    313\u001b[0m \u001b[0;34m\u001b[0m\u001b[0m\n",
      "\u001b[0;32m/usr/local/lib/python3.10/dist-packages/matplotlib/axes/_base.py\u001b[0m in \u001b[0;36m_plot_args\u001b[0;34m(self, tup, kwargs, return_kwargs, ambiguous_fmt_datakey)\u001b[0m\n\u001b[1;32m    502\u001b[0m \u001b[0;34m\u001b[0m\u001b[0m\n\u001b[1;32m    503\u001b[0m         \u001b[0;32mif\u001b[0m \u001b[0mx\u001b[0m\u001b[0;34m.\u001b[0m\u001b[0mshape\u001b[0m\u001b[0;34m[\u001b[0m\u001b[0;36m0\u001b[0m\u001b[0;34m]\u001b[0m \u001b[0;34m!=\u001b[0m \u001b[0my\u001b[0m\u001b[0;34m.\u001b[0m\u001b[0mshape\u001b[0m\u001b[0;34m[\u001b[0m\u001b[0;36m0\u001b[0m\u001b[0;34m]\u001b[0m\u001b[0;34m:\u001b[0m\u001b[0;34m\u001b[0m\u001b[0;34m\u001b[0m\u001b[0m\n\u001b[0;32m--> 504\u001b[0;31m             raise ValueError(f\"x and y must have same first dimension, but \"\n\u001b[0m\u001b[1;32m    505\u001b[0m                              f\"have shapes {x.shape} and {y.shape}\")\n\u001b[1;32m    506\u001b[0m         \u001b[0;32mif\u001b[0m \u001b[0mx\u001b[0m\u001b[0;34m.\u001b[0m\u001b[0mndim\u001b[0m \u001b[0;34m>\u001b[0m \u001b[0;36m2\u001b[0m \u001b[0;32mor\u001b[0m \u001b[0my\u001b[0m\u001b[0;34m.\u001b[0m\u001b[0mndim\u001b[0m \u001b[0;34m>\u001b[0m \u001b[0;36m2\u001b[0m\u001b[0;34m:\u001b[0m\u001b[0;34m\u001b[0m\u001b[0;34m\u001b[0m\u001b[0m\n",
      "\u001b[0;31mValueError\u001b[0m: x and y must have same first dimension, but have shapes (48,) and (66,)"
     ]
    },
    {
     "data": {
      "image/png": "[encoded data removed]",
      "text/plain": [
       "<Figure size 1000x600 with 1 Axes>"
      ]
     },
     "metadata": {},
     "output_type": "display_data"
    }
   ],
   "source": [
    "# Vẽ biểu đồ dự đoán và giá thực tế\n",
    "import matplotlib.pyplot as plt\n",
    "plt.figure(figsize=(10, 6))\n",
    "plt.plot(filtered_df1['time'], filtered_close, label='Close')\n",
    "plt.plot(filtered_df1['time'], forecast_result, label='Forecast', linestyle='--')\n",
    "plt.xlabel('Time')\n",
    "plt.ylabel('Price')\n",
    "plt.title('Close vs Forecast')\n",
    "plt.legend()\n",
    "plt.show()"
   ]
  },
  {
   "cell_type": "code",
   "execution_count": null,
   "metadata": {
    "id": "HUA6KDXfldvt"
   },
   "outputs": [],
   "source": []
  }
 ],
 "metadata": {
  "colab": {
   "provenance": [
    {
     "file_id": "1rp4J1bCyHYNhHaNxY-rZUcf3rFk2w4vT",
     "timestamp": 1703354242425
    }
   ]
  },
  "kernelspec": {
   "display_name": "Python 3 (ipykernel)",
   "language": "python",
   "name": "python3"
  },
  "language_info": {
   "codemirror_mode": {
    "name": "ipython",
    "version": 3
   },
   "file_extension": ".py",
   "mimetype": "text/x-python",
   "name": "python",
   "nbconvert_exporter": "python",
   "pygments_lexer": "ipython3",
   "version": "3.12.4"
  }
 },
 "nbformat": 4,
 "nbformat_minor": 4
}
